{
 "cells": [
  {
   "cell_type": "code",
   "execution_count": 1,
   "id": "68ad80f1-81b3-4b88-8b7e-02d7219eafe5",
   "metadata": {},
   "outputs": [],
   "source": [
    "import numpy as np \n",
    "import pandas as pd\n",
    "from sklearn.model_selection import train_test_split"
   ]
  },
  {
   "cell_type": "code",
   "execution_count": 2,
   "id": "1419e1a3-7644-4d08-9fae-55af2fae2a81",
   "metadata": {},
   "outputs": [],
   "source": [
    "raw_df = pd.read_csv('housing.csv')"
   ]
  },
  {
   "cell_type": "code",
   "execution_count": 3,
   "id": "ba1db8bd-0b89-45e4-bd9f-7c5808e89fa9",
   "metadata": {},
   "outputs": [],
   "source": [
    "cond = ((raw_df['ocean_proximity'] == '<1H OCEAN') | \n",
    "        (raw_df['ocean_proximity'] == 'INLAND'))\n",
    "df = raw_df[cond].copy()"
   ]
  },
  {
   "cell_type": "code",
   "execution_count": 4,
   "id": "e1e866a8-5115-4b92-a52b-eca27d8e3109",
   "metadata": {},
   "outputs": [
    {
     "name": "stdout",
     "output_type": "stream",
     "text": [
      "(20640, 10) (15687, 10)\n"
     ]
    }
   ],
   "source": [
    "print(raw_df.shape, df.shape)"
   ]
  },
  {
   "cell_type": "code",
   "execution_count": 5,
   "id": "9773c937-3594-4677-9425-ef08fac18f73",
   "metadata": {},
   "outputs": [],
   "source": [
    "req_cols = ['latitude', 'longitude', 'housing_median_age', 'total_rooms', \n",
    "            'total_bedrooms', 'population', 'households', 'median_income', \n",
    "            'median_house_value']\n",
    "df = df[req_cols]"
   ]
  },
  {
   "cell_type": "markdown",
   "id": "33e55d5f-fed3-4240-86ea-f860811058f8",
   "metadata": {},
   "source": [
    "Question 1\n",
    "There's one feature with missing values. What is it?\n",
    "- total_rooms\n",
    "- total_bedrooms\n",
    "- population\n",
    "- households"
   ]
  },
  {
   "cell_type": "code",
   "execution_count": 6,
   "id": "73cb64a7-3be5-4d8b-9e9a-e47d9f1161cc",
   "metadata": {},
   "outputs": [
    {
     "data": {
      "text/plain": [
       "['total_bedrooms']"
      ]
     },
     "execution_count": 6,
     "metadata": {},
     "output_type": "execute_result"
    }
   ],
   "source": [
    "[c for c in df.columns if df[c].isna().sum() > 1]"
   ]
  },
  {
   "cell_type": "markdown",
   "id": "bfa37cca-8d2f-4b94-a8a1-ecfb28d333e1",
   "metadata": {},
   "source": [
    "Question 2 What's the median (50% percentile) for variable 'population'?\n",
    "- 995\n",
    "- 1095\n",
    "- 1195\n",
    "- 1295"
   ]
  },
  {
   "cell_type": "code",
   "execution_count": 7,
   "id": "246e621b-dcc1-4536-a800-9ef971bdd50c",
   "metadata": {},
   "outputs": [
    {
     "name": "stdout",
     "output_type": "stream",
     "text": [
      "50th percentile of variable population: 1195.0\n"
     ]
    }
   ],
   "source": [
    "print('50th percentile of variable population: {}'.format(np.percentile(df['population'], 50)))"
   ]
  },
  {
   "cell_type": "markdown",
   "id": "4bb784f9-1933-4e12-a662-49e77250a1e4",
   "metadata": {},
   "source": [
    "Prepare and split the dataset\n",
    "- Shuffle the dataset (the filtered one you created above), use seed 42.\n",
    "- Split your data in train/val/test sets, with 60%/20%/20% distribution.\n",
    "- Apply the log transformation to the median_house_value variable using the np.log1p() function."
   ]
  },
  {
   "cell_type": "code",
   "execution_count": 9,
   "id": "035bd175-a1db-47f9-a526-32cacd51555b",
   "metadata": {},
   "outputs": [],
   "source": [
    "df['log_median_house_value'] = np.log1p(df['median_house_value'])"
   ]
  },
  {
   "cell_type": "markdown",
   "id": "74c48d82-1e3a-409e-813c-f61041984c8e",
   "metadata": {},
   "source": [
    "### df.sample()"
   ]
  },
  {
   "cell_type": "code",
   "execution_count": null,
   "id": "7ff29baa-6213-4b36-a39f-beec6b4f6a6f",
   "metadata": {},
   "outputs": [],
   "source": [
    "df_shuffled = df.sample(frac=1, random_state=42)"
   ]
  },
  {
   "cell_type": "markdown",
   "id": "717dde41-f079-48ce-961f-45829e800cc0",
   "metadata": {},
   "source": [
    "### np.random.seed()"
   ]
  },
  {
   "cell_type": "code",
   "execution_count": 10,
   "id": "8b989000-f831-455e-a1ba-8e479790d723",
   "metadata": {},
   "outputs": [],
   "source": [
    "np.random.seed(42)\n",
    "n = len(df)\n",
    "idx = np.arange(n)\n",
    "np.random.shuffle(idx)\n",
    "df_shuffled = df.iloc[idx]"
   ]
  },
  {
   "cell_type": "markdown",
   "id": "cfcc2458-d4bd-4d4c-9fa0-74a6974bf2fc",
   "metadata": {},
   "source": [
    "### train-val-test split"
   ]
  },
  {
   "cell_type": "code",
   "execution_count": null,
   "id": "8218be63-63b2-46e3-82a0-91b99367ced3",
   "metadata": {},
   "outputs": [],
   "source": [
    "# my code \n",
    "index1 = int((df_shuffled.shape[0]*0.6))\n",
    "index2 = index1 + int((df_shuffled.shape[0]*0.2))\n",
    "print(index1, index2)\n",
    "train_df = df_shuffled.iloc[:index1, :].copy()\n",
    "val_df = df_shuffled.iloc[index1:index2, :].copy()\n",
    "test_df = df_shuffled.iloc[index2:, :].copy()\n",
    "print(train_df.shape, val_df.shape, test_df.shape)"
   ]
  },
  {
   "cell_type": "code",
   "execution_count": 20,
   "id": "a7bf3d1d-ddb8-4db8-a2a5-aa353506a80e",
   "metadata": {},
   "outputs": [
    {
     "name": "stdout",
     "output_type": "stream",
     "text": [
      "(9413, 10) (3137, 10) (3137, 10)\n"
     ]
    }
   ],
   "source": [
    "n = len(df_shuffled)\n",
    "n_val = int(0.2 * n)\n",
    "n_test = int(0.2 * n)\n",
    "n_train = n - (n_val + n_test)\n",
    "train_df = df_shuffled.iloc[:n_train].copy()\n",
    "val_df = df_shuffled.iloc[n_train:n_train+n_val].copy()\n",
    "test_df = df_shuffled.iloc[n_train+n_val:].copy()\n",
    "print(train_df.shape, val_df.shape, test_df.shape)"
   ]
  },
  {
   "cell_type": "code",
   "execution_count": 21,
   "id": "36412b46-9264-4f77-b1b3-cc5d312bd1a2",
   "metadata": {},
   "outputs": [
    {
     "data": {
      "text/plain": [
       "True"
      ]
     },
     "execution_count": 21,
     "metadata": {},
     "output_type": "execute_result"
    }
   ],
   "source": [
    "pd.concat([train_df, val_df, test_df], axis=0).equals(df_shuffled)"
   ]
  },
  {
   "cell_type": "markdown",
   "id": "be0835bf-cccb-4f4c-8a6a-402a895df603",
   "metadata": {},
   "source": [
    "### Linear regression model \n",
    "- X = [n, k+1]  where k = # features | columns; n = # instances;\n",
    "- y = [n, 1]\n",
    "- w = [k+1, 1]"
   ]
  },
  {
   "cell_type": "code",
   "execution_count": 14,
   "id": "ba1eb157-8ad1-425f-9754-f5e69f0520ee",
   "metadata": {},
   "outputs": [],
   "source": [
    "def train_linear_regression(X, y):\n",
    "    ones = np.ones(X.shape[0])\n",
    "    X = np.column_stack([ones, X]) # add bias\n",
    "    XTX = X.T.dot(X) \n",
    "    XTX_inv = np.linalg.inv(XTX)\n",
    "    w = XTX_inv.dot(X.T).dot(y)\n",
    "    # return w\n",
    "    return w[0], w[1:]"
   ]
  },
  {
   "cell_type": "code",
   "execution_count": 15,
   "id": "ec9d0fc3-eca2-44d0-be72-a98853ea3f99",
   "metadata": {},
   "outputs": [],
   "source": [
    "def RMSE(y, y_pred):\n",
    "    error = y - y_pred\n",
    "    return np.sqrt((error ** 2).mean())"
   ]
  },
  {
   "cell_type": "code",
   "execution_count": null,
   "id": "b0355561-1a78-4f9e-a29b-e39c0db72c24",
   "metadata": {},
   "outputs": [],
   "source": []
  },
  {
   "cell_type": "markdown",
   "id": "40dfdb7e-0266-4160-8e02-a5b2d3391dea",
   "metadata": {},
   "source": [
    "Question 3\n",
    "- We need to deal with missing values for the column from Q1.\n",
    "- We have two options: fill it with 0 or with the mean of this variable.\n",
    "- Try both options. For each, train a linear regression model without regularization using the code from the lessons.\n",
    "- For computing the mean, use the training only!\n",
    "- Use the validation dataset to evaluate the models and compare the RMSE of each option.\n",
    "- Round the RMSE scores to 2 decimal digits using round(score, 2)\n",
    "- Which option gives better RMSE?\n",
    "    - With 0\n",
    "    - With mean\n",
    "    - Both are equally good"
   ]
  },
  {
   "cell_type": "markdown",
   "id": "6b928bdc-34cb-4e64-a397-74c4dc03a89a",
   "metadata": {},
   "source": [
    "- https://www.youtube.com/watch?v=vM3SqPNlStE&list=PL3MmuxUbc_hIhxl5Ji8t4O6lPAOpHaCLR&index=11&ab_channel=DataTalksClub%E2%AC%9B\n",
    "- https://github.com/alexeygrigorev/mlbookcamp-code/blob/master/chapter-02-car-price/02-carprice.ipynb"
   ]
  },
  {
   "cell_type": "markdown",
   "id": "10c28f00-815a-483e-bc21-d232bbaee01f",
   "metadata": {},
   "source": [
    "### impute missing value with 0 "
   ]
  },
  {
   "cell_type": "code",
   "execution_count": null,
   "id": "b3c6f3ad-ec6a-4bf4-ba50-1200baeeb1c8",
   "metadata": {},
   "outputs": [],
   "source": [
    "# df2 = df_shuffled.copy()"
   ]
  },
  {
   "cell_type": "code",
   "execution_count": 13,
   "id": "476e0efe-98f2-4f7e-9886-9660bcdbd762",
   "metadata": {},
   "outputs": [],
   "source": [
    "train_df['total_bedrooms'].fillna(0, inplace=True)\n",
    "val_df['total_bedrooms'].fillna(0, inplace=True)\n",
    "test_df['total_bedrooms'].fillna(0, inplace=True)"
   ]
  },
  {
   "cell_type": "code",
   "execution_count": null,
   "id": "5a040dcf-6412-4380-95c4-6b230396c0bf",
   "metadata": {},
   "outputs": [],
   "source": [
    "# index1 = int((df2.shape[0]*0.6))\n",
    "# index2 = index1 + int((df2.shape[0]*0.2))\n",
    "# print(index1, index2)\n",
    "# train_df = df2.iloc[:index1, :].copy()\n",
    "# val_df = df2.iloc[index1:index2, :].copy()\n",
    "# test_df = df2.iloc[index2:, :].copy()\n",
    "# print(train_df.shape, val_df.shape, test_df.shape)"
   ]
  },
  {
   "cell_type": "code",
   "execution_count": 16,
   "id": "25e5db65-6b29-48d2-b641-9baa053139b5",
   "metadata": {},
   "outputs": [],
   "source": [
    "X = np.array(train_df.loc[:, train_df.columns[:-2]].copy())\n",
    "Y = np.array(train_df.loc[:, 'log_median_house_value'])\n",
    "b_v1, w_v1 = train_linear_regression(X, Y)"
   ]
  },
  {
   "cell_type": "code",
   "execution_count": 17,
   "id": "60d270e3-0b8b-425f-8ad1-7b49a2d8f514",
   "metadata": {},
   "outputs": [],
   "source": [
    "X_val = np.array(val_df.loc[:, val_df.columns[:-2]].copy())\n",
    "y_val = np.array(val_df.loc[:, 'log_median_house_value'])\n",
    "y_pred_val = b_v1 + X_val.dot(w_v1)"
   ]
  },
  {
   "cell_type": "code",
   "execution_count": 18,
   "id": "60c7cf16-cd36-4de9-86ba-ce7249987186",
   "metadata": {},
   "outputs": [
    {
     "data": {
      "text/plain": [
       "array([11.71830182, 12.47794996, 11.84203817, ..., 12.40213723,\n",
       "       12.06030557, 12.06854096])"
      ]
     },
     "execution_count": 18,
     "metadata": {},
     "output_type": "execute_result"
    }
   ],
   "source": [
    "y_pred_val"
   ]
  },
  {
   "cell_type": "code",
   "execution_count": 19,
   "id": "997b7c63-afed-4cce-8468-9e6907a9fec7",
   "metadata": {},
   "outputs": [
    {
     "data": {
      "text/plain": [
       "0.34"
      ]
     },
     "execution_count": 19,
     "metadata": {},
     "output_type": "execute_result"
    }
   ],
   "source": [
    "np.round(RMSE(y_val, y_pred_val), 2)"
   ]
  },
  {
   "cell_type": "code",
   "execution_count": null,
   "id": "a818f770-27d3-452e-b9fc-726accaf340d",
   "metadata": {},
   "outputs": [],
   "source": []
  },
  {
   "cell_type": "markdown",
   "id": "1cd71e33-de82-4e07-b06d-6edc6b28c5e4",
   "metadata": {
    "jp-MarkdownHeadingCollapsed": true
   },
   "source": [
    "### [TBN] IMPORTANT: when X (+1) is square matrix, the weight equation can be calculated using the formula, $w = X^{-1} . Y $"
   ]
  },
  {
   "cell_type": "code",
   "execution_count": 36,
   "id": "a1d9f742-afd7-4ae4-90c9-750f2c729f4a",
   "metadata": {},
   "outputs": [],
   "source": [
    "train_df.reset_index(drop=True, inplace=True)"
   ]
  },
  {
   "cell_type": "code",
   "execution_count": null,
   "id": "997af198-c491-480d-b1bc-380d70c752c0",
   "metadata": {},
   "outputs": [],
   "source": [
    "x = np.array(train_df.loc[:8, train_df.columns[:-2]].copy())\n",
    "ones = np.ones(x.shape[0])\n",
    "x = np.column_stack([ones, x])\n",
    "# [train_df.columns[:-2]].copy()\n",
    "y = np.array(train_df.loc[:8, 'log_median_house_value'])\n",
    "\n",
    "print(x.shape, y.shape)"
   ]
  },
  {
   "cell_type": "code",
   "execution_count": 54,
   "id": "dc80f1cb-01a5-427d-af16-621fa8b60ac8",
   "metadata": {},
   "outputs": [],
   "source": [
    "w_test = np.linalg.inv(x).dot(y)"
   ]
  },
  {
   "cell_type": "code",
   "execution_count": 55,
   "id": "12e3785a-2761-482c-9d0a-16edb67d89af",
   "metadata": {},
   "outputs": [
    {
     "data": {
      "text/plain": [
       "array([-8.25116023e+01, -9.89073723e-01, -1.10759844e+00, -4.44129418e-02,\n",
       "        7.02629116e-04,  1.10884602e-02, -3.87045556e-04, -1.64633731e-02,\n",
       "        5.23502027e-02])"
      ]
     },
     "execution_count": 55,
     "metadata": {},
     "output_type": "execute_result"
    }
   ],
   "source": [
    "w_test"
   ]
  },
  {
   "cell_type": "code",
   "execution_count": 60,
   "id": "5a00812f-83eb-4a61-9a27-98345d492dae",
   "metadata": {},
   "outputs": [
    {
     "data": {
      "text/plain": [
       "array([-8.25116023e+01, -9.89073723e-01, -1.10759844e+00, -4.44129418e-02,\n",
       "        7.02629116e-04,  1.10884602e-02, -3.87045556e-04, -1.64633731e-02,\n",
       "        5.23502027e-02])"
      ]
     },
     "execution_count": 60,
     "metadata": {},
     "output_type": "execute_result"
    }
   ],
   "source": [
    "x = np.array(train_df.loc[:8, train_df.columns[:-2]].copy())\n",
    "y = np.array(train_df.loc[:8, 'log_median_house_value'])\n",
    "train_linear_regression(x, y)"
   ]
  },
  {
   "cell_type": "markdown",
   "id": "ef69558a-ddf3-437b-b341-d57eb7213f69",
   "metadata": {},
   "source": [
    "### impute missing value with mean "
   ]
  },
  {
   "cell_type": "code",
   "execution_count": 23,
   "id": "4bd0a222-14f1-4f0f-a16f-7e9e34e74c5b",
   "metadata": {},
   "outputs": [],
   "source": [
    "avg_value = train_df['total_bedrooms'].mean()\n",
    "train_df['total_bedrooms'].fillna(avg_value, inplace=True)\n",
    "val_df['total_bedrooms'].fillna(avg_value, inplace=True)\n",
    "test_df['total_bedrooms'].fillna(avg_value, inplace=True)"
   ]
  },
  {
   "cell_type": "code",
   "execution_count": 25,
   "id": "951a8abf-4a4b-4a73-b93f-5aaed56c08ca",
   "metadata": {},
   "outputs": [
    {
     "data": {
      "text/plain": [
       "542.552956325786"
      ]
     },
     "execution_count": 25,
     "metadata": {},
     "output_type": "execute_result"
    }
   ],
   "source": [
    "avg_value"
   ]
  },
  {
   "cell_type": "code",
   "execution_count": 26,
   "id": "791e9419-c55a-4daf-8a44-2a9bb5b30a97",
   "metadata": {},
   "outputs": [],
   "source": [
    "X = np.array(train_df.loc[:, train_df.columns[:-2]].copy())\n",
    "Y = np.array(train_df.loc[:, 'log_median_house_value'])\n",
    "b_v1, w_v1 = train_linear_regression(X, Y)"
   ]
  },
  {
   "cell_type": "code",
   "execution_count": 27,
   "id": "87b6aeea-4b06-4d30-9298-cf4792f9f172",
   "metadata": {},
   "outputs": [],
   "source": [
    "X_val = np.array(val_df.loc[:, val_df.columns[:-2]].copy())\n",
    "y_val = np.array(val_df.loc[:, 'log_median_house_value'])\n",
    "y_pred_val = b_v1 + X_val.dot(w_v1)"
   ]
  },
  {
   "cell_type": "code",
   "execution_count": 28,
   "id": "fe6e66f9-be46-4a41-8f05-cbdc349ee64e",
   "metadata": {},
   "outputs": [
    {
     "data": {
      "text/plain": [
       "array([11.71462282, 12.47428049, 11.84127314, ..., 12.39294053,\n",
       "       12.05541417, 12.06224727])"
      ]
     },
     "execution_count": 28,
     "metadata": {},
     "output_type": "execute_result"
    }
   ],
   "source": [
    "y_pred_val"
   ]
  },
  {
   "cell_type": "code",
   "execution_count": 29,
   "id": "86382fd7-6a3c-4456-8921-379ca68111bb",
   "metadata": {},
   "outputs": [
    {
     "data": {
      "text/plain": [
       "0.34"
      ]
     },
     "execution_count": 29,
     "metadata": {},
     "output_type": "execute_result"
    }
   ],
   "source": [
    "np.round(RMSE(y_val, y_pred_val), 2)"
   ]
  },
  {
   "cell_type": "code",
   "execution_count": null,
   "id": "8037c6aa-9a55-4ae2-b7b5-eed137271919",
   "metadata": {},
   "outputs": [],
   "source": []
  },
  {
   "cell_type": "markdown",
   "id": "719a7dd5-a9a7-43be-8496-20dece8465f4",
   "metadata": {},
   "source": [
    "Question 4\n",
    "- Now let's train a regularized linear regression.\n",
    "- For this question, fill the NAs with 0.\n",
    "- Try different values of r from this list: [0, 0.000001, 0.0001, 0.001, 0.01, 0.1, 1, 5, 10].\n",
    "- Use RMSE to evaluate the model on the validation dataset.\n",
    "- Round the RMSE scores to 2 decimal digits.\n",
    "- Which r gives the best RMSE?\n",
    "    - If there are multiple options, select the smallest r.\n",
    "    - 0\n",
    "    - 0.000001\n",
    "    - 0.001\n",
    "    - 0.0001"
   ]
  },
  {
   "cell_type": "code",
   "execution_count": null,
   "id": "9f63ae01-5ef8-478c-b46a-cc8404262320",
   "metadata": {},
   "outputs": [],
   "source": []
  },
  {
   "cell_type": "code",
   "execution_count": null,
   "id": "77fb6b6a-e8c9-45ce-9d1c-55c32d5f9bd5",
   "metadata": {},
   "outputs": [],
   "source": []
  },
  {
   "cell_type": "markdown",
   "id": "7d0fc232-94da-4cd2-b420-ac8bb78c6040",
   "metadata": {},
   "source": [
    "Question 5\n",
    "- We used seed 42 for splitting the data. Let's find out how selecting the seed influences our score.\n",
    "- Try different seed values: [0, 1, 2, 3, 4, 5, 6, 7, 8, 9].\n",
    "- For each seed, do the train/validation/test split with 60%/20%/20% distribution.\n",
    "- Fill the missing values with 0 and train a model without regularization.\n",
    "- For each seed, evaluate the model on the validation dataset and collect the RMSE scores.\n",
    "- What's the standard deviation of all the scores? To compute the standard deviation, use np.std.\n",
    "- Round the result to 3 decimal digits (round(std, 3))\n",
    "- What's the value of std?\n",
    "    - 0.5\n",
    "    - 0.05\n",
    "    - 0.005\n",
    "    - 0.0005\n",
    "- Note: Standard deviation shows how different the values are. If it's low, then all values are approximately the same. If it's high, the values are different. If standard deviation of scores is low, then our model is stable."
   ]
  },
  {
   "cell_type": "code",
   "execution_count": null,
   "id": "b9d1166a-5ec7-4ee4-86c4-b8510154efea",
   "metadata": {},
   "outputs": [],
   "source": []
  },
  {
   "cell_type": "code",
   "execution_count": null,
   "id": "f0338845-b2ce-4989-bf52-f548594efa43",
   "metadata": {},
   "outputs": [],
   "source": []
  },
  {
   "cell_type": "markdown",
   "id": "fd8c157c-49ac-42bc-8c7c-ec13caf714ce",
   "metadata": {},
   "source": [
    "Question 6\n",
    "- Split the dataset like previously, use seed 9.\n",
    "- Combine train and validation datasets.\n",
    "- Fill the missing values with 0 and train a model with r=0.001.\n",
    "- What's the RMSE on the test dataset?\n",
    "    - 0.13\n",
    "    - 0.23\n",
    "    - 0.33\n",
    "    - 0.43"
   ]
  },
  {
   "cell_type": "code",
   "execution_count": null,
   "id": "d86ce6bd-d2ce-435e-a30b-8081714008a5",
   "metadata": {},
   "outputs": [],
   "source": []
  },
  {
   "cell_type": "code",
   "execution_count": null,
   "id": "3ffa78ee-942c-4863-8a97-16e643f4f1dc",
   "metadata": {},
   "outputs": [],
   "source": []
  },
  {
   "cell_type": "code",
   "execution_count": null,
   "id": "10e4a794-a9e9-4c53-bbd3-3fd1c45486d6",
   "metadata": {},
   "outputs": [],
   "source": []
  },
  {
   "cell_type": "markdown",
   "id": "7fefe861-37f8-4a95-a26e-0b348e24cdef",
   "metadata": {},
   "source": [
    "- submission link : https://forms.gle/nNUTLzz3F9KiFHNp9"
   ]
  },
  {
   "cell_type": "code",
   "execution_count": null,
   "id": "a2f1e78e-a9e6-4e5e-a309-e3a8d9ef06cc",
   "metadata": {},
   "outputs": [],
   "source": []
  }
 ],
 "metadata": {
  "kernelspec": {
   "display_name": "Python 3 (ipykernel)",
   "language": "python",
   "name": "python3"
  },
  "language_info": {
   "codemirror_mode": {
    "name": "ipython",
    "version": 3
   },
   "file_extension": ".py",
   "mimetype": "text/x-python",
   "name": "python",
   "nbconvert_exporter": "python",
   "pygments_lexer": "ipython3",
   "version": "3.9.15"
  }
 },
 "nbformat": 4,
 "nbformat_minor": 5
}
