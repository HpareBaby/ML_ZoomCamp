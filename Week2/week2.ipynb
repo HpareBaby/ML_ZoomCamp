{
 "cells": [
  {
   "cell_type": "code",
   "execution_count": 1,
   "id": "68ad80f1-81b3-4b88-8b7e-02d7219eafe5",
   "metadata": {},
   "outputs": [],
   "source": [
    "import numpy as np \n",
    "import pandas as pd"
   ]
  },
  {
   "cell_type": "code",
   "execution_count": 2,
   "id": "1419e1a3-7644-4d08-9fae-55af2fae2a81",
   "metadata": {},
   "outputs": [],
   "source": [
    "raw_df = pd.read_csv('housing.csv')"
   ]
  },
  {
   "cell_type": "code",
   "execution_count": 3,
   "id": "ba1db8bd-0b89-45e4-bd9f-7c5808e89fa9",
   "metadata": {},
   "outputs": [],
   "source": [
    "cond = ((raw_df['ocean_proximity'] == '<1H OCEAN') | \n",
    "        (raw_df['ocean_proximity'] == 'INLAND'))\n",
    "df = raw_df[cond].copy()"
   ]
  },
  {
   "cell_type": "code",
   "execution_count": 4,
   "id": "9773c937-3594-4677-9425-ef08fac18f73",
   "metadata": {},
   "outputs": [],
   "source": [
    "req_cols = ['latitude', 'longitude', 'housing_median_age', 'total_rooms', \n",
    "            'total_bedrooms', 'population', 'households', 'median_income', \n",
    "            'median_house_value']\n",
    "df = df[req_cols]"
   ]
  },
  {
   "cell_type": "markdown",
   "id": "33e55d5f-fed3-4240-86ea-f860811058f8",
   "metadata": {},
   "source": [
    "Question 1\n",
    "There's one feature with missing values. What is it?\n",
    "- total_rooms\n",
    "- total_bedrooms\n",
    "- population\n",
    "- households"
   ]
  },
  {
   "cell_type": "code",
   "execution_count": 5,
   "id": "73cb64a7-3be5-4d8b-9e9a-e47d9f1161cc",
   "metadata": {},
   "outputs": [
    {
     "data": {
      "text/plain": [
       "['total_bedrooms']"
      ]
     },
     "execution_count": 5,
     "metadata": {},
     "output_type": "execute_result"
    }
   ],
   "source": [
    "[c for c in df.columns if df[c].isna().sum() > 1]"
   ]
  },
  {
   "cell_type": "markdown",
   "id": "bfa37cca-8d2f-4b94-a8a1-ecfb28d333e1",
   "metadata": {},
   "source": [
    "Question 2: What's the median (50% percentile) for variable 'population'?\n",
    "- 995\n",
    "- 1095\n",
    "- 1195\n",
    "- 1295"
   ]
  },
  {
   "cell_type": "code",
   "execution_count": 6,
   "id": "246e621b-dcc1-4536-a800-9ef971bdd50c",
   "metadata": {},
   "outputs": [
    {
     "name": "stdout",
     "output_type": "stream",
     "text": [
      "50th percentile of variable population: 1195.0\n"
     ]
    }
   ],
   "source": [
    "print('50th percentile of variable population: {}'.format(np.percentile(df['population'], 50)))"
   ]
  },
  {
   "cell_type": "markdown",
   "id": "4bb784f9-1933-4e12-a662-49e77250a1e4",
   "metadata": {},
   "source": [
    "Prepare and split the dataset\n",
    "- Shuffle the dataset (the filtered one you created above), use seed 42.\n",
    "- Split your data in train/val/test sets, with 60%/20%/20% distribution.\n",
    "- Apply the log transformation to the median_house_value variable using the np.log1p() function."
   ]
  },
  {
   "cell_type": "code",
   "execution_count": 7,
   "id": "035bd175-a1db-47f9-a526-32cacd51555b",
   "metadata": {},
   "outputs": [],
   "source": [
    "df['median_house_value'] = np.log1p(df['median_house_value'])"
   ]
  },
  {
   "cell_type": "code",
   "execution_count": 8,
   "id": "8b989000-f831-455e-a1ba-8e479790d723",
   "metadata": {},
   "outputs": [],
   "source": [
    "np.random.seed(42)\n",
    "n = len(df)\n",
    "idx = np.arange(n)\n",
    "np.random.shuffle(idx)\n",
    "df_shuffled = df.iloc[idx]"
   ]
  },
  {
   "cell_type": "code",
   "execution_count": 9,
   "id": "a7bf3d1d-ddb8-4db8-a2a5-aa353506a80e",
   "metadata": {},
   "outputs": [
    {
     "name": "stdout",
     "output_type": "stream",
     "text": [
      "(9413, 9) (3137, 9) (3137, 9)\n"
     ]
    }
   ],
   "source": [
    "n = len(df_shuffled)\n",
    "n_val = int(0.2 * n)\n",
    "n_test = int(0.2 * n)\n",
    "n_train = n - (n_val + n_test)\n",
    "train_df = df_shuffled.iloc[:n_train].copy()\n",
    "val_df = df_shuffled.iloc[n_train:n_train+n_val].copy()\n",
    "test_df = df_shuffled.iloc[n_train+n_val:].copy()\n",
    "print(train_df.shape, val_df.shape, test_df.shape)"
   ]
  },
  {
   "cell_type": "markdown",
   "id": "be0835bf-cccb-4f4c-8a6a-402a895df603",
   "metadata": {},
   "source": [
    "### Linear regression model "
   ]
  },
  {
   "cell_type": "code",
   "execution_count": 10,
   "id": "ba1eb157-8ad1-425f-9754-f5e69f0520ee",
   "metadata": {},
   "outputs": [],
   "source": [
    "def train_linear_regression(X, y):\n",
    "    ones = np.ones(X.shape[0])\n",
    "    X = np.column_stack([ones, X])\n",
    "    XTX = X.T.dot(X) \n",
    "    XTX_inv = np.linalg.inv(XTX)\n",
    "    w = XTX_inv.dot(X.T).dot(y)\n",
    "    return w[0], w[1:]"
   ]
  },
  {
   "cell_type": "code",
   "execution_count": 11,
   "id": "146eac8d-8303-4a30-8a60-38fe0427e60e",
   "metadata": {},
   "outputs": [],
   "source": [
    "def train_linear_regression_reg(X, y, r):\n",
    "    ones = np.ones(X.shape[0])\n",
    "    X = np.column_stack([ones, X])\n",
    "    XTX = X.T.dot(X)\n",
    "    reg = r + np.eye(XTX.shape[0])\n",
    "    XTX = XTX + reg\n",
    "    XTX_inv = np.linalg.inv(XTX)\n",
    "    w = XTX_inv.dot(X.T).dot(y)\n",
    "    return w[0], w[1:]"
   ]
  },
  {
   "cell_type": "code",
   "execution_count": 12,
   "id": "ec9d0fc3-eca2-44d0-be72-a98853ea3f99",
   "metadata": {},
   "outputs": [],
   "source": [
    "def RMSE(y, y_pred):\n",
    "    error = y - y_pred\n",
    "    return np.sqrt((error ** 2).mean())"
   ]
  },
  {
   "cell_type": "code",
   "execution_count": null,
   "id": "b0355561-1a78-4f9e-a29b-e39c0db72c24",
   "metadata": {},
   "outputs": [],
   "source": []
  },
  {
   "cell_type": "markdown",
   "id": "40dfdb7e-0266-4160-8e02-a5b2d3391dea",
   "metadata": {},
   "source": [
    "Question 3\n",
    "- We need to deal with missing values for the column from Q1.\n",
    "- We have two options: fill it with 0 or with the mean of this variable.\n",
    "- Try both options. For each, train a linear regression model without regularization using the code from the lessons.\n",
    "- For computing the mean, use the training only!\n",
    "- Use the validation dataset to evaluate the models and compare the RMSE of each option.\n",
    "- Round the RMSE scores to 2 decimal digits using round(score, 2)\n",
    "- Which option gives better RMSE?\n",
    "    - With 0\n",
    "    - With mean\n",
    "    - Both are equally good"
   ]
  },
  {
   "cell_type": "markdown",
   "id": "10c28f00-815a-483e-bc21-d232bbaee01f",
   "metadata": {},
   "source": [
    "### Option 1: fill missing values with 0 "
   ]
  },
  {
   "cell_type": "code",
   "execution_count": 13,
   "id": "476e0efe-98f2-4f7e-9886-9660bcdbd762",
   "metadata": {},
   "outputs": [],
   "source": [
    "train_df['total_bedrooms'].fillna(0, inplace=True)\n",
    "val_df['total_bedrooms'].fillna(0, inplace=True)\n",
    "test_df['total_bedrooms'].fillna(0, inplace=True)"
   ]
  },
  {
   "cell_type": "code",
   "execution_count": 14,
   "id": "25e5db65-6b29-48d2-b641-9baa053139b5",
   "metadata": {},
   "outputs": [],
   "source": [
    "X = np.array(train_df.loc[:, train_df.columns[:-1]].copy())\n",
    "Y = np.array(train_df.loc[:, 'median_house_value'])\n",
    "b, w = train_linear_regression(X, Y)"
   ]
  },
  {
   "cell_type": "code",
   "execution_count": 15,
   "id": "60d270e3-0b8b-425f-8ad1-7b49a2d8f514",
   "metadata": {},
   "outputs": [],
   "source": [
    "X_val = np.array(val_df.loc[:, val_df.columns[:-1]].copy())\n",
    "y_val = np.array(val_df.loc[:, 'median_house_value'])\n",
    "y_pred_val = b + X_val.dot(w)"
   ]
  },
  {
   "cell_type": "code",
   "execution_count": 16,
   "id": "997b7c63-afed-4cce-8468-9e6907a9fec7",
   "metadata": {},
   "outputs": [
    {
     "data": {
      "text/plain": [
       "0.34"
      ]
     },
     "execution_count": 16,
     "metadata": {},
     "output_type": "execute_result"
    }
   ],
   "source": [
    "round(RMSE(y_val, y_pred_val), 2)"
   ]
  },
  {
   "cell_type": "code",
   "execution_count": null,
   "id": "a818f770-27d3-452e-b9fc-726accaf340d",
   "metadata": {},
   "outputs": [],
   "source": []
  },
  {
   "cell_type": "markdown",
   "id": "ef69558a-ddf3-437b-b341-d57eb7213f69",
   "metadata": {},
   "source": [
    "### Option 2: fill missing value with mean "
   ]
  },
  {
   "cell_type": "code",
   "execution_count": 17,
   "id": "ec4f75ae-b157-49eb-9089-dd181bc7f680",
   "metadata": {},
   "outputs": [
    {
     "name": "stdout",
     "output_type": "stream",
     "text": [
      "(9413, 9) (3137, 9) (3137, 9)\n"
     ]
    }
   ],
   "source": [
    "n = len(df_shuffled)\n",
    "n_val = int(0.2 * n)\n",
    "n_test = int(0.2 * n)\n",
    "n_train = n - (n_val + n_test)\n",
    "train_df = df_shuffled.iloc[:n_train].copy()\n",
    "val_df = df_shuffled.iloc[n_train:n_train+n_val].copy()\n",
    "test_df = df_shuffled.iloc[n_train+n_val:].copy()\n",
    "print(train_df.shape, val_df.shape, test_df.shape)"
   ]
  },
  {
   "cell_type": "code",
   "execution_count": 18,
   "id": "4bd0a222-14f1-4f0f-a16f-7e9e34e74c5b",
   "metadata": {},
   "outputs": [],
   "source": [
    "avg_value = train_df['total_bedrooms'].mean()\n",
    "train_df['total_bedrooms'].fillna(avg_value, inplace=True)\n",
    "val_df['total_bedrooms'].fillna(avg_value, inplace=True)\n",
    "test_df['total_bedrooms'].fillna(avg_value, inplace=True)"
   ]
  },
  {
   "cell_type": "code",
   "execution_count": 19,
   "id": "791e9419-c55a-4daf-8a44-2a9bb5b30a97",
   "metadata": {},
   "outputs": [],
   "source": [
    "X = np.array(train_df.loc[:, train_df.columns[:-1]].copy())\n",
    "Y = np.array(train_df.loc[:, 'median_house_value'])\n",
    "b, w = train_linear_regression(X, Y)"
   ]
  },
  {
   "cell_type": "code",
   "execution_count": 20,
   "id": "87b6aeea-4b06-4d30-9298-cf4792f9f172",
   "metadata": {},
   "outputs": [],
   "source": [
    "X_val = np.array(val_df.loc[:, val_df.columns[:-1]].copy())\n",
    "y_val = np.array(val_df.loc[:, 'median_house_value'])\n",
    "y_pred_val = b + X_val.dot(w)"
   ]
  },
  {
   "cell_type": "code",
   "execution_count": 21,
   "id": "86382fd7-6a3c-4456-8921-379ca68111bb",
   "metadata": {},
   "outputs": [
    {
     "data": {
      "text/plain": [
       "0.34"
      ]
     },
     "execution_count": 21,
     "metadata": {},
     "output_type": "execute_result"
    }
   ],
   "source": [
    "round(RMSE(y_val, y_pred_val), 2)"
   ]
  },
  {
   "cell_type": "code",
   "execution_count": null,
   "id": "50d795af-24c9-4d9f-a182-7674a9ff4538",
   "metadata": {},
   "outputs": [],
   "source": []
  },
  {
   "cell_type": "markdown",
   "id": "719a7dd5-a9a7-43be-8496-20dece8465f4",
   "metadata": {},
   "source": [
    "Question 4\n",
    "- Now let's train a regularized linear regression.\n",
    "- For this question, fill the NAs with 0.\n",
    "- Try different values of r from this list: [0, 0.000001, 0.0001, 0.001, 0.01, 0.1, 1, 5, 10].\n",
    "- Use RMSE to evaluate the model on the validation dataset.\n",
    "- Round the RMSE scores to 2 decimal digits.\n",
    "- Which r gives the best RMSE? If there are multiple options, select the smallest r.\n",
    "    - 0\n",
    "    - 0.000001\n",
    "    - 0.001\n",
    "    - 0.0001"
   ]
  },
  {
   "cell_type": "code",
   "execution_count": 22,
   "id": "d2e6746a-60cc-4f30-9f7c-a8e67afec3c1",
   "metadata": {},
   "outputs": [
    {
     "name": "stdout",
     "output_type": "stream",
     "text": [
      "(9413, 9) (3137, 9) (3137, 9)\n"
     ]
    }
   ],
   "source": [
    "n = len(df_shuffled)\n",
    "n_val = int(0.2 * n)\n",
    "n_test = int(0.2 * n)\n",
    "n_train = n - (n_val + n_test)\n",
    "train_df = df_shuffled.iloc[:n_train].copy()\n",
    "val_df = df_shuffled.iloc[n_train:n_train+n_val].copy()\n",
    "test_df = df_shuffled.iloc[n_train+n_val:].copy()\n",
    "print(train_df.shape, val_df.shape, test_df.shape)"
   ]
  },
  {
   "cell_type": "code",
   "execution_count": 23,
   "id": "b03e359c-2f82-4d48-b2c8-16228d6d8692",
   "metadata": {},
   "outputs": [],
   "source": [
    "train_df['total_bedrooms'].fillna(0, inplace=True)\n",
    "val_df['total_bedrooms'].fillna(0, inplace=True)\n",
    "test_df['total_bedrooms'].fillna(0, inplace=True)"
   ]
  },
  {
   "cell_type": "code",
   "execution_count": 24,
   "id": "7d2d76b0-771e-4a47-9b1a-d19df2bf9d5f",
   "metadata": {},
   "outputs": [],
   "source": [
    "r_list = [0, 0.000001, 0.0001, 0.001, 0.01, 0.1, 1, 5, 10]"
   ]
  },
  {
   "cell_type": "code",
   "execution_count": 25,
   "id": "86a0e118-846a-4f70-bdf5-d85a8677754c",
   "metadata": {},
   "outputs": [],
   "source": [
    "X = np.array(train_df.loc[:, train_df.columns[:-1]].copy())\n",
    "Y = np.array(train_df.loc[:, 'median_house_value'])"
   ]
  },
  {
   "cell_type": "code",
   "execution_count": 26,
   "id": "476ae26f-fbed-49e7-8939-99b46b4a450d",
   "metadata": {},
   "outputs": [],
   "source": [
    "X_val = np.array(val_df.loc[:, val_df.columns[:-1]].copy())\n",
    "y_val = np.array(val_df.loc[:, 'median_house_value'])"
   ]
  },
  {
   "cell_type": "code",
   "execution_count": 27,
   "id": "6846c1b0-2bf5-4b3f-a2d0-ab9bff27b5ea",
   "metadata": {},
   "outputs": [],
   "source": [
    "rmse_result = {}"
   ]
  },
  {
   "cell_type": "code",
   "execution_count": 28,
   "id": "10dcfd47-ad71-4098-a7cb-cd25339f31a5",
   "metadata": {},
   "outputs": [],
   "source": [
    "for r in r_list:\n",
    "    b, w = train_linear_regression_reg(X, Y, r)\n",
    "    y_pred_val = b + X_val.dot(w)\n",
    "    rmse_result[r] = round(RMSE(y_val, y_pred_val), 2)"
   ]
  },
  {
   "cell_type": "code",
   "execution_count": 29,
   "id": "9f63ae01-5ef8-478c-b46a-cc8404262320",
   "metadata": {},
   "outputs": [
    {
     "name": "stdout",
     "output_type": "stream",
     "text": [
      "Best r value: 0\n"
     ]
    }
   ],
   "source": [
    "best_r = min([k for k, v in rmse_result.items() if v == min(rmse_result.values())])\n",
    "print('Best r value: {}'.format(best_r))"
   ]
  },
  {
   "cell_type": "code",
   "execution_count": null,
   "id": "77fb6b6a-e8c9-45ce-9d1c-55c32d5f9bd5",
   "metadata": {},
   "outputs": [],
   "source": []
  },
  {
   "cell_type": "markdown",
   "id": "7d0fc232-94da-4cd2-b420-ac8bb78c6040",
   "metadata": {},
   "source": [
    "Question 5\n",
    "- We used seed 42 for splitting the data. Let's find out how selecting the seed influences our score.\n",
    "- Try different seed values: [0, 1, 2, 3, 4, 5, 6, 7, 8, 9].\n",
    "- For each seed, do the train/validation/test split with 60%/20%/20% distribution.\n",
    "- Fill the missing values with 0 and train a model without regularization.\n",
    "- For each seed, evaluate the model on the validation dataset and collect the RMSE scores.\n",
    "- What's the standard deviation of all the scores? To compute the standard deviation, use np.std.\n",
    "- Round the result to 3 decimal digits (round(std, 3))\n",
    "- What's the value of std?\n",
    "    - 0.5\n",
    "    - 0.05\n",
    "    - 0.005\n",
    "    - 0.0005\n",
    "- Note: Standard deviation shows how different the values are. If it's low, then all values are approximately the same. If it's high, the values are different. If standard deviation of scores is low, then our model is stable."
   ]
  },
  {
   "cell_type": "code",
   "execution_count": 30,
   "id": "47437fd1-6695-47e1-a37c-d85126f0e554",
   "metadata": {},
   "outputs": [],
   "source": [
    "seed_list = np.arange(10)"
   ]
  },
  {
   "cell_type": "code",
   "execution_count": 31,
   "id": "6eff07ce-cdc9-4ce5-9cbf-252b7f1cbe7e",
   "metadata": {},
   "outputs": [],
   "source": [
    "seed_result = {}"
   ]
  },
  {
   "cell_type": "code",
   "execution_count": 32,
   "id": "b9d1166a-5ec7-4ee4-86c4-b8510154efea",
   "metadata": {},
   "outputs": [],
   "source": [
    "for seed in seed_list:\n",
    "    np.random.seed(seed)\n",
    "    n = len(df)\n",
    "    idx = np.arange(n)\n",
    "    np.random.shuffle(idx)\n",
    "    df_shuffled = df.iloc[idx]\n",
    "    train_df = df_shuffled.iloc[:n_train].copy()\n",
    "    val_df = df_shuffled.iloc[n_train:n_train+n_val].copy()\n",
    "    test_df = df_shuffled.iloc[n_train+n_val:].copy()\n",
    "    \n",
    "    train_df['total_bedrooms'].fillna(0, inplace=True)\n",
    "    val_df['total_bedrooms'].fillna(0, inplace=True)\n",
    "    test_df['total_bedrooms'].fillna(0, inplace=True)\n",
    "\n",
    "    X = np.array(train_df.loc[:, train_df.columns[:-1]].copy())\n",
    "    Y = np.array(train_df.loc[:, 'median_house_value'])\n",
    "    X_val = np.array(val_df.loc[:, val_df.columns[:-1]].copy())\n",
    "    y_val = np.array(val_df.loc[:, 'median_house_value'])\n",
    "    b, w = train_linear_regression(X, Y)\n",
    "    y_pred_val = b + X_val.dot(w)\n",
    "    seed_result[seed] = RMSE(y_val, y_pred_val)"
   ]
  },
  {
   "cell_type": "code",
   "execution_count": 33,
   "id": "7a7e4540-7b2c-481c-b925-b40698b5396a",
   "metadata": {},
   "outputs": [
    {
     "name": "stdout",
     "output_type": "stream",
     "text": [
      "Value of std: 0.005\n"
     ]
    }
   ],
   "source": [
    "std_value = round(np.std(list(seed_result.values())), 3)\n",
    "print('Value of std: {}'.format(std_value))"
   ]
  },
  {
   "cell_type": "markdown",
   "id": "fd8c157c-49ac-42bc-8c7c-ec13caf714ce",
   "metadata": {},
   "source": [
    "Question 6\n",
    "- Split the dataset like previously, use seed 9.\n",
    "- Combine train and validation datasets.\n",
    "- Fill the missing values with 0 and train a model with r=0.001.\n",
    "- What's the RMSE on the test dataset?\n",
    "    - 0.13\n",
    "    - 0.23\n",
    "    - 0.33\n",
    "    - 0.43"
   ]
  },
  {
   "cell_type": "code",
   "execution_count": 34,
   "id": "d86ce6bd-d2ce-435e-a30b-8081714008a5",
   "metadata": {},
   "outputs": [],
   "source": [
    "seed = 9\n",
    "np.random.seed(seed)\n",
    "n = len(df)\n",
    "idx = np.arange(n)\n",
    "np.random.shuffle(idx)\n",
    "df_shuffled = df.iloc[idx]\n",
    "train_df = df_shuffled.iloc[:n_train].copy()\n",
    "val_df = df_shuffled.iloc[n_train:n_train+n_val].copy()\n",
    "test_df = df_shuffled.iloc[n_train+n_val:].copy()\n",
    "train_df = pd.concat([train_df, val_df], axis=0)"
   ]
  },
  {
   "cell_type": "code",
   "execution_count": 35,
   "id": "6260dbe1-be44-43be-b098-9b3c128082f8",
   "metadata": {},
   "outputs": [],
   "source": [
    "train_df['total_bedrooms'].fillna(0, inplace=True)\n",
    "test_df['total_bedrooms'].fillna(0, inplace=True)"
   ]
  },
  {
   "cell_type": "code",
   "execution_count": 36,
   "id": "06db7791-9352-4674-b7ef-0c861e49179e",
   "metadata": {},
   "outputs": [],
   "source": [
    "X = np.array(train_df.loc[:, train_df.columns[:-1]].copy())\n",
    "Y = np.array(train_df.loc[:, 'median_house_value'])\n",
    "X_test = np.array(test_df.loc[:, test_df.columns[:-1]].copy())\n",
    "y_test = np.array(test_df.loc[:, 'median_house_value'])"
   ]
  },
  {
   "cell_type": "code",
   "execution_count": 37,
   "id": "2808e662-6cf6-40a5-a338-a22123d9e7d2",
   "metadata": {},
   "outputs": [],
   "source": [
    "r = 0.001\n",
    "b, w = train_linear_regression_reg(X, Y, r)\n",
    "y_pred = b + X_test.dot(w)"
   ]
  },
  {
   "cell_type": "code",
   "execution_count": 38,
   "id": "3ffa78ee-942c-4863-8a97-16e643f4f1dc",
   "metadata": {},
   "outputs": [
    {
     "name": "stdout",
     "output_type": "stream",
     "text": [
      "RMSE on test dataset: 0.338\n"
     ]
    }
   ],
   "source": [
    "print('RMSE on test dataset: {}'.format(round(RMSE(y_test, y_pred), 3)))"
   ]
  },
  {
   "cell_type": "code",
   "execution_count": null,
   "id": "10e4a794-a9e9-4c53-bbd3-3fd1c45486d6",
   "metadata": {},
   "outputs": [],
   "source": []
  }
 ],
 "metadata": {
  "kernelspec": {
   "display_name": "Python 3 (ipykernel)",
   "language": "python",
   "name": "python3"
  },
  "language_info": {
   "codemirror_mode": {
    "name": "ipython",
    "version": 3
   },
   "file_extension": ".py",
   "mimetype": "text/x-python",
   "name": "python",
   "nbconvert_exporter": "python",
   "pygments_lexer": "ipython3",
   "version": "3.9.15"
  }
 },
 "nbformat": 4,
 "nbformat_minor": 5
}
