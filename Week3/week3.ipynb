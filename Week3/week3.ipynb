{
 "cells": [
  {
   "cell_type": "code",
   "execution_count": 1,
   "id": "73cc0623-352f-47ee-ba7b-68dd6a12f442",
   "metadata": {},
   "outputs": [],
   "source": [
    "import numpy as np \n",
    "import pandas as pd\n",
    "from sklearn.model_selection import train_test_split\n",
    "from sklearn.preprocessing import OneHotEncoder\n",
    "from sklearn.linear_model import LogisticRegression, Ridge\n",
    "from sklearn.metrics import mutual_info_score, accuracy_score, mean_squared_error"
   ]
  },
  {
   "cell_type": "code",
   "execution_count": 2,
   "id": "850235ee-61f2-46c2-b5d4-dc4bbaa51922",
   "metadata": {},
   "outputs": [
    {
     "name": "stdout",
     "output_type": "stream",
     "text": [
      "(11914, 16)\n"
     ]
    }
   ],
   "source": [
    "raw_data = pd.read_csv('data.csv')\n",
    "print(raw_data.shape)"
   ]
  },
  {
   "cell_type": "markdown",
   "id": "326e5905-c819-4789-8ddb-e650a9531904",
   "metadata": {},
   "source": [
    "### Data preparation"
   ]
  },
  {
   "cell_type": "code",
   "execution_count": 3,
   "id": "8e7d3ab8-4bcf-4f6b-a526-946b80dfff99",
   "metadata": {},
   "outputs": [
    {
     "name": "stdout",
     "output_type": "stream",
     "text": [
      "(11914, 10)\n"
     ]
    }
   ],
   "source": [
    "req_cols = ['Make', 'Model', 'Year', 'Engine HP', 'Engine Cylinders',\n",
    "    'Transmission Type', 'Vehicle Style', 'highway MPG', 'city mpg', 'MSRP']\n",
    "df = raw_data[req_cols].copy()\n",
    "df.fillna(0, inplace=True)\n",
    "df.rename(columns={'MSRP': 'price'}, inplace=True) \n",
    "print(df.shape)"
   ]
  },
  {
   "cell_type": "code",
   "execution_count": 4,
   "id": "b262550b-39bf-4a54-9bc8-ea85a0252c56",
   "metadata": {},
   "outputs": [],
   "source": [
    "df.columns = df.columns.str.replace(' ', '_').str.lower()"
   ]
  },
  {
   "cell_type": "markdown",
   "id": "f9d38c44-e604-4a4e-a481-35f3e0160440",
   "metadata": {},
   "source": [
    "### Question 1\n",
    "- What is the most frequent observation (mode) for the column transmission_type?\n",
    "  - AUTOMATIC\n",
    "  - MANUAL\n",
    "  - AUTOMATED_MANUAL\n",
    "  - DIRECT_DRIVE"
   ]
  },
  {
   "cell_type": "code",
   "execution_count": 5,
   "id": "d0561f33-b033-43db-8e77-1cc644424287",
   "metadata": {},
   "outputs": [
    {
     "data": {
      "text/plain": [
       "0    AUTOMATIC\n",
       "Name: transmission_type, dtype: object"
      ]
     },
     "execution_count": 5,
     "metadata": {},
     "output_type": "execute_result"
    }
   ],
   "source": [
    "df['transmission_type'].mode()"
   ]
  },
  {
   "cell_type": "markdown",
   "id": "d5f74048-a596-499f-9b03-075bb5da6131",
   "metadata": {},
   "source": [
    "### Question 2\n",
    "- Create the correlation matrix for the numerical features of your dataset. In a correlation matrix, you compute the correlation coefficient between every pair of features in the dataset.\n",
    "- What are the two features that have the biggest correlation in this dataset?\n",
    "  - engine_hp and year\n",
    "  - engine_hp and engine_cylinders\n",
    "  - highway_mpg and engine_cylinders\n",
    "  - highway_mpg and city_mpg"
   ]
  },
  {
   "cell_type": "code",
   "execution_count": 6,
   "id": "8d634fc4-b593-4cdb-8cc0-0672eaf35d58",
   "metadata": {},
   "outputs": [
    {
     "data": {
      "text/html": [
       "<div>\n",
       "<style scoped>\n",
       "    .dataframe tbody tr th:only-of-type {\n",
       "        vertical-align: middle;\n",
       "    }\n",
       "\n",
       "    .dataframe tbody tr th {\n",
       "        vertical-align: top;\n",
       "    }\n",
       "\n",
       "    .dataframe thead th {\n",
       "        text-align: right;\n",
       "    }\n",
       "</style>\n",
       "<table border=\"1\" class=\"dataframe\">\n",
       "  <thead>\n",
       "    <tr style=\"text-align: right;\">\n",
       "      <th></th>\n",
       "      <th>year</th>\n",
       "      <th>engine_hp</th>\n",
       "      <th>engine_cylinders</th>\n",
       "      <th>highway_mpg</th>\n",
       "      <th>city_mpg</th>\n",
       "      <th>price</th>\n",
       "    </tr>\n",
       "  </thead>\n",
       "  <tbody>\n",
       "    <tr>\n",
       "      <th>year</th>\n",
       "      <td>1.000000</td>\n",
       "      <td>0.338714</td>\n",
       "      <td>-0.040708</td>\n",
       "      <td>0.258240</td>\n",
       "      <td>0.198171</td>\n",
       "      <td>0.227590</td>\n",
       "    </tr>\n",
       "    <tr>\n",
       "      <th>engine_hp</th>\n",
       "      <td>0.338714</td>\n",
       "      <td>1.000000</td>\n",
       "      <td>0.774851</td>\n",
       "      <td>-0.415707</td>\n",
       "      <td>-0.424918</td>\n",
       "      <td>0.650095</td>\n",
       "    </tr>\n",
       "    <tr>\n",
       "      <th>engine_cylinders</th>\n",
       "      <td>-0.040708</td>\n",
       "      <td>0.774851</td>\n",
       "      <td>1.000000</td>\n",
       "      <td>-0.614541</td>\n",
       "      <td>-0.587306</td>\n",
       "      <td>0.526274</td>\n",
       "    </tr>\n",
       "    <tr>\n",
       "      <th>highway_mpg</th>\n",
       "      <td>0.258240</td>\n",
       "      <td>-0.415707</td>\n",
       "      <td>-0.614541</td>\n",
       "      <td>1.000000</td>\n",
       "      <td>0.886829</td>\n",
       "      <td>-0.160043</td>\n",
       "    </tr>\n",
       "    <tr>\n",
       "      <th>city_mpg</th>\n",
       "      <td>0.198171</td>\n",
       "      <td>-0.424918</td>\n",
       "      <td>-0.587306</td>\n",
       "      <td>0.886829</td>\n",
       "      <td>1.000000</td>\n",
       "      <td>-0.157676</td>\n",
       "    </tr>\n",
       "    <tr>\n",
       "      <th>price</th>\n",
       "      <td>0.227590</td>\n",
       "      <td>0.650095</td>\n",
       "      <td>0.526274</td>\n",
       "      <td>-0.160043</td>\n",
       "      <td>-0.157676</td>\n",
       "      <td>1.000000</td>\n",
       "    </tr>\n",
       "  </tbody>\n",
       "</table>\n",
       "</div>"
      ],
      "text/plain": [
       "                      year  engine_hp  engine_cylinders  highway_mpg  \\\n",
       "year              1.000000   0.338714         -0.040708     0.258240   \n",
       "engine_hp         0.338714   1.000000          0.774851    -0.415707   \n",
       "engine_cylinders -0.040708   0.774851          1.000000    -0.614541   \n",
       "highway_mpg       0.258240  -0.415707         -0.614541     1.000000   \n",
       "city_mpg          0.198171  -0.424918         -0.587306     0.886829   \n",
       "price             0.227590   0.650095          0.526274    -0.160043   \n",
       "\n",
       "                  city_mpg     price  \n",
       "year              0.198171  0.227590  \n",
       "engine_hp        -0.424918  0.650095  \n",
       "engine_cylinders -0.587306  0.526274  \n",
       "highway_mpg       0.886829 -0.160043  \n",
       "city_mpg          1.000000 -0.157676  \n",
       "price            -0.157676  1.000000  "
      ]
     },
     "execution_count": 6,
     "metadata": {},
     "output_type": "execute_result"
    }
   ],
   "source": [
    "df.select_dtypes(include=np.number).corr()"
   ]
  },
  {
   "cell_type": "markdown",
   "id": "1d49784b-8911-42b0-81b7-4bea563aa5a2",
   "metadata": {},
   "source": [
    "### train-test-split"
   ]
  },
  {
   "cell_type": "code",
   "execution_count": 7,
   "id": "0868a73e-3dff-4253-808e-8f188b4c93df",
   "metadata": {},
   "outputs": [],
   "source": [
    "avg_price = df['price'].mean()\n",
    "cond = df['price'] > avg_price\n",
    "df['above_average'] = 0\n",
    "df.loc[cond, 'above_average'] = 1"
   ]
  },
  {
   "cell_type": "code",
   "execution_count": 8,
   "id": "0cc7dc78-29c4-4516-8983-f92487f6b425",
   "metadata": {},
   "outputs": [
    {
     "name": "stdout",
     "output_type": "stream",
     "text": [
      "(11914, 9) (11914, 1)\n"
     ]
    }
   ],
   "source": [
    "X = df[[c for c in df.columns if c not in ['price', 'above_average']]].copy()\n",
    "Y = df[['above_average']].copy()\n",
    "print(X.shape, Y.shape)"
   ]
  },
  {
   "cell_type": "code",
   "execution_count": 9,
   "id": "2dfb486e-8150-43d0-af76-10849388583b",
   "metadata": {},
   "outputs": [],
   "source": [
    "x_train_all, x_test, y_train_all, y_test = train_test_split(\n",
    "    X, Y, test_size=0.2, random_state=42)\n",
    "x_train, x_val, y_train, y_val = train_test_split(\n",
    "    x_train_all, y_train_all, test_size=0.24, random_state=42)"
   ]
  },
  {
   "cell_type": "markdown",
   "id": "131d0248-fb02-41d1-ad55-a9e2ccbbd41b",
   "metadata": {},
   "source": [
    "### Question 3\n",
    "- Calculate the mutual information score between above_average and other categorical variables in our dataset. Use the training set only. Round the scores to 2 decimals using round(score, 2).\n",
    "- Which of these variables has the lowest mutual information score?\n",
    "  - make\n",
    "  - model\n",
    "  - transmission_type\n",
    "  - vehicle_style"
   ]
  },
  {
   "cell_type": "code",
   "execution_count": 10,
   "id": "7386e2ed-d747-4774-90af-1d68c65beb4a",
   "metadata": {},
   "outputs": [
    {
     "data": {
      "text/html": [
       "<div>\n",
       "<style scoped>\n",
       "    .dataframe tbody tr th:only-of-type {\n",
       "        vertical-align: middle;\n",
       "    }\n",
       "\n",
       "    .dataframe tbody tr th {\n",
       "        vertical-align: top;\n",
       "    }\n",
       "\n",
       "    .dataframe thead th {\n",
       "        text-align: right;\n",
       "    }\n",
       "</style>\n",
       "<table border=\"1\" class=\"dataframe\">\n",
       "  <thead>\n",
       "    <tr style=\"text-align: right;\">\n",
       "      <th></th>\n",
       "      <th>MI</th>\n",
       "    </tr>\n",
       "  </thead>\n",
       "  <tbody>\n",
       "    <tr>\n",
       "      <th>model</th>\n",
       "      <td>0.46</td>\n",
       "    </tr>\n",
       "    <tr>\n",
       "      <th>make</th>\n",
       "      <td>0.24</td>\n",
       "    </tr>\n",
       "    <tr>\n",
       "      <th>vehicle_style</th>\n",
       "      <td>0.08</td>\n",
       "    </tr>\n",
       "    <tr>\n",
       "      <th>transmission_type</th>\n",
       "      <td>0.02</td>\n",
       "    </tr>\n",
       "  </tbody>\n",
       "</table>\n",
       "</div>"
      ],
      "text/plain": [
       "                     MI\n",
       "model              0.46\n",
       "make               0.24\n",
       "vehicle_style      0.08\n",
       "transmission_type  0.02"
      ]
     },
     "execution_count": 10,
     "metadata": {},
     "output_type": "execute_result"
    }
   ],
   "source": [
    "x_train.select_dtypes(include='object').apply(\n",
    "    lambda x: round(mutual_info_score(x, y_train['above_average']), 2), axis=0)\\\n",
    "    .to_frame(name='MI').sort_values('MI', ascending=False)"
   ]
  },
  {
   "cell_type": "markdown",
   "id": "86483fed-f40e-40e8-9f38-1ab6ef5294d3",
   "metadata": {},
   "source": [
    "### Question 4\n",
    "- Now let's train a logistic regression.\n",
    "- Remember that we have several categorical variables in the dataset. Include them using one-hot encoding.\n",
    "- Fit the model on the training dataset.\n",
    "  - To make sure the results are reproducible across different versions of Scikit-Learn, fit the model with these parameters:\n",
    "        `model = LogisticRegression(solver='liblinear', C=10, max_iter=1000, random_state=42)`\n",
    "  - Calculate the accuracy on the validation dataset and round it to 2 decimal digits.\n",
    "- What accuracy did you get?\n",
    "  - 0.60\n",
    "  - 0.72\n",
    "  - 0.84\n",
    "  - 0.95"
   ]
  },
  {
   "cell_type": "code",
   "execution_count": 11,
   "id": "367308c8-0142-4355-a167-cb0c14a9c979",
   "metadata": {},
   "outputs": [],
   "source": [
    "onehot_encoder = OneHotEncoder(\n",
    "    drop='first', dtype=int, handle_unknown='ignore')"
   ]
  },
  {
   "cell_type": "code",
   "execution_count": 12,
   "id": "9e512379-d864-4fa4-b129-2d6daa29d58a",
   "metadata": {},
   "outputs": [
    {
     "name": "stderr",
     "output_type": "stream",
     "text": [
      "/home/byl/Documents/byl/studies/MLZoomCamp/.venv/lib/python3.9/site-packages/sklearn/preprocessing/_encoders.py:227: UserWarning: Found unknown categories in columns [1, 3, 7, 8] during transform. These unknown categories will be encoded as all zeros\n",
      "  warnings.warn(\n"
     ]
    }
   ],
   "source": [
    "train_encoded = onehot_encoder.fit_transform(x_train)\n",
    "val_encoded = onehot_encoder.transform(x_val)"
   ]
  },
  {
   "cell_type": "code",
   "execution_count": 13,
   "id": "932ec664-5a3a-4d9c-afdf-f87c6d569e25",
   "metadata": {},
   "outputs": [],
   "source": [
    "lr = LogisticRegression(\n",
    "    solver='liblinear', C=10, max_iter=1000, random_state=42)"
   ]
  },
  {
   "cell_type": "code",
   "execution_count": 14,
   "id": "f1de4cbd-0503-4eae-970b-e832b0143dd1",
   "metadata": {},
   "outputs": [],
   "source": [
    "lr = lr.fit(train_encoded, np.ravel(y_train))\n",
    "ypred_val = lr.predict(val_encoded)"
   ]
  },
  {
   "cell_type": "code",
   "execution_count": 15,
   "id": "e8be80c7-7cf5-47b6-87d5-ee33155d50ea",
   "metadata": {},
   "outputs": [
    {
     "name": "stdout",
     "output_type": "stream",
     "text": [
      "Accuracy score: 0.95\n"
     ]
    }
   ],
   "source": [
    "acc_score = round(accuracy_score(y_pred=ypred_val, y_true=y_val), 2)\n",
    "print('Accuracy score: {}'.format(acc_score))"
   ]
  },
  {
   "cell_type": "code",
   "execution_count": null,
   "id": "e82b3a0f-e947-420c-a372-e3234b23d020",
   "metadata": {},
   "outputs": [],
   "source": []
  },
  {
   "cell_type": "markdown",
   "id": "4ce4af89-d38d-44b1-b317-b5b6afb68997",
   "metadata": {},
   "source": [
    "### Question 5\n",
    "- Let's find the least useful feature using the feature elimination technique.\n",
    "- Train a model with all these features (using the same parameters as in Q4).\n",
    "- Now exclude each feature from this set and train a model without it. Record the accuracy for each model.\n",
    "- For each feature, calculate the difference between the original accuracy and the accuracy without the feature.\n",
    "- Which of following feature has the smallest difference? Note: the difference doesn't have to be positive\n",
    "  - year\n",
    "  - engine_hp\n",
    "  - transmission_type\n",
    "  - city_mpg"
   ]
  },
  {
   "cell_type": "code",
   "execution_count": null,
   "id": "e3165abb-5403-4bf3-b2db-fd4db5ed7960",
   "metadata": {},
   "outputs": [],
   "source": [
    "result_df = pd.DataFrame()\n",
    "for c in x_train.columns:\n",
    "    onehot_encoder = OneHotEncoder(\n",
    "        drop='first', dtype=int, handle_unknown='ignore')\n",
    "    train_encoded = onehot_encoder.fit_transform(x_train.drop(columns=[c]))\n",
    "    val_encoded = onehot_encoder.transform(x_val.drop(columns=[c]))\n",
    "    lr = LogisticRegression(\n",
    "        solver='liblinear', C=10, max_iter=1000, random_state=42) \n",
    "    lr = lr.fit(train_encoded, y_train)\n",
    "    ypred = lr.predict(val_encoded)\n",
    "    score = accuracy_score(y_pred=ypred, y_true=y_val)\n",
    "    if result_df.shape[0] == 0:\n",
    "        res_dict = {'dropped_feature': c, 'score': score}\n",
    "        result_df = pd.DataFrame(res_dict, index=[0])\n",
    "    else:\n",
    "        result_df = pd.concat([\n",
    "            result_df, pd.DataFrame(\n",
    "                {'dropped_feature': c, 'score': score}, index=[0])\n",
    "        ], ignore_index=True)"
   ]
  },
  {
   "cell_type": "code",
   "execution_count": 18,
   "id": "aca43c74-29e5-4614-88c1-d730d9246377",
   "metadata": {},
   "outputs": [],
   "source": [
    "result_df['diff'] = result_df['score'] - acc_score\n",
    "result_df['abs_diff'] = result_df['diff'].apply(lambda x: abs(x))"
   ]
  },
  {
   "cell_type": "code",
   "execution_count": 19,
   "id": "40629957-02f8-492e-97df-4b7e59d2ffde",
   "metadata": {},
   "outputs": [
    {
     "data": {
      "text/html": [
       "<div>\n",
       "<style scoped>\n",
       "    .dataframe tbody tr th:only-of-type {\n",
       "        vertical-align: middle;\n",
       "    }\n",
       "\n",
       "    .dataframe tbody tr th {\n",
       "        vertical-align: top;\n",
       "    }\n",
       "\n",
       "    .dataframe thead th {\n",
       "        text-align: right;\n",
       "    }\n",
       "</style>\n",
       "<table border=\"1\" class=\"dataframe\">\n",
       "  <thead>\n",
       "    <tr style=\"text-align: right;\">\n",
       "      <th></th>\n",
       "      <th>dropped_feature</th>\n",
       "      <th>score</th>\n",
       "      <th>diff</th>\n",
       "      <th>abs_diff</th>\n",
       "    </tr>\n",
       "  </thead>\n",
       "  <tbody>\n",
       "    <tr>\n",
       "      <th>3</th>\n",
       "      <td>engine_hp</td>\n",
       "      <td>0.949738</td>\n",
       "      <td>-0.000262</td>\n",
       "      <td>0.000262</td>\n",
       "    </tr>\n",
       "    <tr>\n",
       "      <th>2</th>\n",
       "      <td>year</td>\n",
       "      <td>0.949301</td>\n",
       "      <td>-0.000699</td>\n",
       "      <td>0.000699</td>\n",
       "    </tr>\n",
       "    <tr>\n",
       "      <th>4</th>\n",
       "      <td>engine_cylinders</td>\n",
       "      <td>0.951486</td>\n",
       "      <td>0.001486</td>\n",
       "      <td>0.001486</td>\n",
       "    </tr>\n",
       "    <tr>\n",
       "      <th>8</th>\n",
       "      <td>city_mpg</td>\n",
       "      <td>0.951923</td>\n",
       "      <td>0.001923</td>\n",
       "      <td>0.001923</td>\n",
       "    </tr>\n",
       "    <tr>\n",
       "      <th>7</th>\n",
       "      <td>highway_mpg</td>\n",
       "      <td>0.947990</td>\n",
       "      <td>-0.002010</td>\n",
       "      <td>0.002010</td>\n",
       "    </tr>\n",
       "    <tr>\n",
       "      <th>6</th>\n",
       "      <td>vehicle_style</td>\n",
       "      <td>0.947552</td>\n",
       "      <td>-0.002448</td>\n",
       "      <td>0.002448</td>\n",
       "    </tr>\n",
       "    <tr>\n",
       "      <th>5</th>\n",
       "      <td>transmission_type</td>\n",
       "      <td>0.952797</td>\n",
       "      <td>0.002797</td>\n",
       "      <td>0.002797</td>\n",
       "    </tr>\n",
       "    <tr>\n",
       "      <th>0</th>\n",
       "      <td>make</td>\n",
       "      <td>0.953671</td>\n",
       "      <td>0.003671</td>\n",
       "      <td>0.003671</td>\n",
       "    </tr>\n",
       "    <tr>\n",
       "      <th>1</th>\n",
       "      <td>model</td>\n",
       "      <td>0.941871</td>\n",
       "      <td>-0.008129</td>\n",
       "      <td>0.008129</td>\n",
       "    </tr>\n",
       "  </tbody>\n",
       "</table>\n",
       "</div>"
      ],
      "text/plain": [
       "     dropped_feature     score      diff  abs_diff\n",
       "3          engine_hp  0.949738 -0.000262  0.000262\n",
       "2               year  0.949301 -0.000699  0.000699\n",
       "4   engine_cylinders  0.951486  0.001486  0.001486\n",
       "8           city_mpg  0.951923  0.001923  0.001923\n",
       "7        highway_mpg  0.947990 -0.002010  0.002010\n",
       "6      vehicle_style  0.947552 -0.002448  0.002448\n",
       "5  transmission_type  0.952797  0.002797  0.002797\n",
       "0               make  0.953671  0.003671  0.003671\n",
       "1              model  0.941871 -0.008129  0.008129"
      ]
     },
     "execution_count": 19,
     "metadata": {},
     "output_type": "execute_result"
    }
   ],
   "source": [
    "result_df.sort_values('abs_diff', ascending=True)"
   ]
  },
  {
   "cell_type": "code",
   "execution_count": null,
   "id": "bb6a47a5-35f5-482d-8cee-420d9a701869",
   "metadata": {},
   "outputs": [],
   "source": []
  },
  {
   "cell_type": "markdown",
   "id": "1f392d82-6177-470d-a717-93ae7ab4061b",
   "metadata": {},
   "source": [
    "### Question 6\n",
    "- For this question, we'll see how to use a linear regression model from Scikit-Learn.\n",
    "- We'll need to use the original column price. Apply the logarithmic transformation to this column.\n",
    "- Fit the Ridge regression model on the training data with a solver 'sag'. Set the seed to 42.\n",
    "- This model also has a parameter alpha. Let's try the following values: [0, 0.01, 0.1, 1, 10].\n",
    "- Round your RMSE scores to 3 decimal digits.\n",
    "- Which of these alphas leads to the best RMSE on the validation set? Note: If there are multiple options, select the smallest alpha.\n",
    "  - 0\n",
    "  - 0.01\n",
    "  - 0.1\n",
    "  - 1\n",
    "  - 10"
   ]
  },
  {
   "cell_type": "code",
   "execution_count": 21,
   "id": "ce6a366e-e41d-46cf-9f9c-2c40f9f87471",
   "metadata": {},
   "outputs": [],
   "source": [
    "df_calc = df.copy()\n",
    "df_calc['price'] = np.log1p(df_calc['price'])"
   ]
  },
  {
   "cell_type": "code",
   "execution_count": 22,
   "id": "39d19f97-a8ff-4b9a-83ff-7ab41e3078d3",
   "metadata": {},
   "outputs": [
    {
     "name": "stdout",
     "output_type": "stream",
     "text": [
      "(11914, 9) (11914, 1)\n"
     ]
    }
   ],
   "source": [
    "X = df_calc[[c for c in df_calc.columns if c not in ['price', 'above_average']]].copy()\n",
    "Y = df_calc[['price']].copy()\n",
    "print(X.shape, Y.shape)"
   ]
  },
  {
   "cell_type": "code",
   "execution_count": 23,
   "id": "500a3ad0-fe6f-40e2-88ba-ec3bcfe981c8",
   "metadata": {},
   "outputs": [],
   "source": [
    "x_train_all, x_test, y_train_all, y_test = train_test_split(\n",
    "    X, Y, test_size=0.2, random_state=42)\n",
    "x_train, x_val, y_train, y_val = train_test_split(\n",
    "    x_train_all, y_train_all, test_size=0.24, random_state=42)"
   ]
  },
  {
   "cell_type": "code",
   "execution_count": null,
   "id": "ad81d5f4-cc15-4a70-9cb2-389788511ccf",
   "metadata": {
    "scrolled": true
   },
   "outputs": [],
   "source": [
    "reg_ls = [0, 0.01, 0.1, 1, 10]\n",
    "result_df = pd.DataFrame()\n",
    "for a in reg_ls: \n",
    "    onehot_encoder = OneHotEncoder(\n",
    "        drop='first', dtype=int, handle_unknown='ignore')\n",
    "    train_encoded = onehot_encoder.fit_transform(x_train)\n",
    "    val_encoded = onehot_encoder.transform(x_val)\n",
    "    \n",
    "    ridge_lr = Ridge(alpha=a, solver='sag', random_state=42)\n",
    "    ridge_lr = ridge_lr.fit(train_encoded, y_train)\n",
    "    ypred = np.ravel(ridge_lr.predict(val_encoded))\n",
    "    rmse = np.sqrt(mean_squared_error(y_true=np.ravel(y_val), y_pred=ypred))\n",
    "    result_dict = pd.DataFrame({'alpha': a, 'rmse': rmse},  index=[0])\n",
    "    if result_df.shape[0] == 0:\n",
    "        result_df = result_dict.copy()\n",
    "    else:\n",
    "        result_df = pd.concat([result_df, result_dict], ignore_index=True)"
   ]
  },
  {
   "cell_type": "code",
   "execution_count": 26,
   "id": "b4284268-0a8e-40d6-bd2d-402bf39b88a5",
   "metadata": {},
   "outputs": [
    {
     "data": {
      "text/html": [
       "<div>\n",
       "<style scoped>\n",
       "    .dataframe tbody tr th:only-of-type {\n",
       "        vertical-align: middle;\n",
       "    }\n",
       "\n",
       "    .dataframe tbody tr th {\n",
       "        vertical-align: top;\n",
       "    }\n",
       "\n",
       "    .dataframe thead th {\n",
       "        text-align: right;\n",
       "    }\n",
       "</style>\n",
       "<table border=\"1\" class=\"dataframe\">\n",
       "  <thead>\n",
       "    <tr style=\"text-align: right;\">\n",
       "      <th></th>\n",
       "      <th>alpha</th>\n",
       "      <th>rmse</th>\n",
       "    </tr>\n",
       "  </thead>\n",
       "  <tbody>\n",
       "    <tr>\n",
       "      <th>1</th>\n",
       "      <td>0.01</td>\n",
       "      <td>0.118818</td>\n",
       "    </tr>\n",
       "    <tr>\n",
       "      <th>0</th>\n",
       "      <td>0.00</td>\n",
       "      <td>0.119123</td>\n",
       "    </tr>\n",
       "    <tr>\n",
       "      <th>2</th>\n",
       "      <td>0.10</td>\n",
       "      <td>0.120290</td>\n",
       "    </tr>\n",
       "    <tr>\n",
       "      <th>3</th>\n",
       "      <td>1.00</td>\n",
       "      <td>0.141592</td>\n",
       "    </tr>\n",
       "    <tr>\n",
       "      <th>4</th>\n",
       "      <td>10.00</td>\n",
       "      <td>0.228786</td>\n",
       "    </tr>\n",
       "  </tbody>\n",
       "</table>\n",
       "</div>"
      ],
      "text/plain": [
       "   alpha      rmse\n",
       "1   0.01  0.118818\n",
       "0   0.00  0.119123\n",
       "2   0.10  0.120290\n",
       "3   1.00  0.141592\n",
       "4  10.00  0.228786"
      ]
     },
     "execution_count": 26,
     "metadata": {},
     "output_type": "execute_result"
    }
   ],
   "source": [
    "result_df.sort_values('rmse', ascending=True)"
   ]
  },
  {
   "cell_type": "code",
   "execution_count": 31,
   "id": "fe960493-a593-4a27-97b9-5d1c7c8ff35a",
   "metadata": {},
   "outputs": [
    {
     "name": "stdout",
     "output_type": "stream",
     "text": [
      "Alpha value that gives the best RMSE: 0.01\n"
     ]
    }
   ],
   "source": [
    "min_alpha = result_df.sort_values('rmse', ascending=True).iloc[0]['alpha']\n",
    "print('Alpha value that gives the best RMSE: {}'.format(min_alpha))"
   ]
  },
  {
   "cell_type": "code",
   "execution_count": null,
   "id": "8b16ed6c-c7d2-4bfc-a36a-0cdc3bcee1a4",
   "metadata": {},
   "outputs": [],
   "source": []
  }
 ],
 "metadata": {
  "kernelspec": {
   "display_name": "Python 3 (ipykernel)",
   "language": "python",
   "name": "python3"
  },
  "language_info": {
   "codemirror_mode": {
    "name": "ipython",
    "version": 3
   },
   "file_extension": ".py",
   "mimetype": "text/x-python",
   "name": "python",
   "nbconvert_exporter": "python",
   "pygments_lexer": "ipython3",
   "version": "3.9.15"
  }
 },
 "nbformat": 4,
 "nbformat_minor": 5
}
