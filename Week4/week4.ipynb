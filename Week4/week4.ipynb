{
 "cells": [
  {
   "cell_type": "code",
   "execution_count": 1,
   "id": "97494552-61a6-44e8-8b1e-524dcbc23aa3",
   "metadata": {},
   "outputs": [],
   "source": [
    "import numpy as np\n",
    "import pandas as pd\n",
    "from sklearn.model_selection import train_test_split, KFold\n",
    "from sklearn.linear_model import LogisticRegression\n",
    "from sklearn.feature_extraction import DictVectorizer\n",
    "from sklearn.metrics import auc, roc_auc_score, precision_score, recall_score, f1_score"
   ]
  },
  {
   "cell_type": "code",
   "execution_count": 2,
   "id": "784e827d-9284-4d3c-86ce-ddc195079e98",
   "metadata": {},
   "outputs": [
    {
     "name": "stdout",
     "output_type": "stream",
     "text": [
      "(11914, 16)\n"
     ]
    }
   ],
   "source": [
    "raw_df = pd.read_csv('data.csv')\n",
    "print(raw_df.shape)"
   ]
  },
  {
   "cell_type": "markdown",
   "id": "c47acbf5-ecbb-4143-945e-06b713aff429",
   "metadata": {},
   "source": [
    "- use the following columns: Make, Model, Year, Engine HP, Engine Cylinders, Transmission Type, Vehicle Style, highway MPG, city mpg, MSRP\n",
    "\n",
    "### Data preparation\n",
    "- Keep only the columns above\n",
    "- Lowercase the column names and replace spaces with underscores\n",
    "- Fill the missing values with 0\n",
    "- Make the price binary (1 if above the average, 0 otherwise) - this will be our target variable above_average\n",
    "- Split the data into 3 parts: train/validation/test with 60%/20%/20% distribution. Use train_test_split function for that with random_state=1"
   ]
  },
  {
   "cell_type": "code",
   "execution_count": 3,
   "id": "f856e9dd-9471-4e7e-bf99-886c3341986b",
   "metadata": {},
   "outputs": [],
   "source": [
    "req_cols = ['Make', 'Model', 'Year', 'Engine HP', 'Engine Cylinders', 'Transmission Type', \n",
    "            'Vehicle Style', 'highway MPG', 'city mpg', 'MSRP']\n",
    "df = raw_df[req_cols].copy()\n",
    "df.columns = ['_'.join(c.lower().split()) for c in df.columns]\n",
    "df.fillna(0, inplace=True)"
   ]
  },
  {
   "cell_type": "code",
   "execution_count": 4,
   "id": "1b1340b4-a00d-4ccc-a321-ee3e8ac48a17",
   "metadata": {},
   "outputs": [],
   "source": [
    "avg_price = df['msrp'].mean()\n",
    "df['above_average'] = np.where(df['msrp'] > avg_price, 1, 0)"
   ]
  },
  {
   "cell_type": "code",
   "execution_count": 6,
   "id": "88af6e33-c105-4d9d-a49b-572e0b66bdf5",
   "metadata": {},
   "outputs": [
    {
     "name": "stdout",
     "output_type": "stream",
     "text": [
      "(7148, 9) (2383, 9) (2383, 9)\n"
     ]
    }
   ],
   "source": [
    "x_train_all, x_test, y_train_all, y_test = train_test_split(\n",
    "    df.drop(columns=['above_average', 'msrp']),\n",
    "    df[['above_average']], test_size=0.2, random_state=1)\n",
    "x_train, x_val, y_train, y_val = train_test_split(\n",
    "    x_train_all, y_train_all, test_size=0.25, random_state=1)\n",
    "print(x_train.shape, x_val.shape, x_test.shape)"
   ]
  },
  {
   "cell_type": "code",
   "execution_count": null,
   "id": "32f6ad50-8154-4843-be2b-2b3739582e0d",
   "metadata": {},
   "outputs": [],
   "source": []
  },
  {
   "cell_type": "markdown",
   "id": "f8e61911-b14d-4862-bc30-366028d681b9",
   "metadata": {},
   "source": [
    "### Question 1: ROC AUC feature importance\n",
    "- ROC AUC could also be used to evaluate feature importance of numerical variables.\n",
    "- For each numerical variable, use it as score and compute AUC with the above_average variable\n",
    "- Use the training dataset for that\n",
    "- If your AUC is < 0.5, invert this variable by putting \"-\" in front (e.g. -df_train['engine_hp'])\n",
    "- AUC can go below 0.5 if the variable is negatively correlated with the target varialble. You can change the direction of the correlation by negating this variable - then negative correlation becomes positive.\n",
    "- Which numerical variable (among the following 4) has the highest AUC?\n",
    "  - engine_hp\n",
    "  - engine_cylinders\n",
    "  - highway_mpg\n",
    "  - city_mpg"
   ]
  },
  {
   "cell_type": "code",
   "execution_count": 7,
   "id": "a305ad2c-3aad-4b2f-a5d4-5c830a0e1eca",
   "metadata": {
    "scrolled": true
   },
   "outputs": [
    {
     "data": {
      "text/html": [
       "<div>\n",
       "<style scoped>\n",
       "    .dataframe tbody tr th:only-of-type {\n",
       "        vertical-align: middle;\n",
       "    }\n",
       "\n",
       "    .dataframe tbody tr th {\n",
       "        vertical-align: top;\n",
       "    }\n",
       "\n",
       "    .dataframe thead th {\n",
       "        text-align: right;\n",
       "    }\n",
       "</style>\n",
       "<table border=\"1\" class=\"dataframe\">\n",
       "  <thead>\n",
       "    <tr style=\"text-align: right;\">\n",
       "      <th></th>\n",
       "      <th>column</th>\n",
       "      <th>roc_auc_score</th>\n",
       "    </tr>\n",
       "  </thead>\n",
       "  <tbody>\n",
       "    <tr>\n",
       "      <th>1</th>\n",
       "      <td>engine_hp</td>\n",
       "      <td>0.917103</td>\n",
       "    </tr>\n",
       "  </tbody>\n",
       "</table>\n",
       "</div>"
      ],
      "text/plain": [
       "      column  roc_auc_score\n",
       "1  engine_hp       0.917103"
      ]
     },
     "execution_count": 7,
     "metadata": {},
     "output_type": "execute_result"
    }
   ],
   "source": [
    "result_df = []\n",
    "for col in x_train.select_dtypes(include='number').columns:\n",
    "    auc = roc_auc_score(y_train['above_average'], x_train[col])\n",
    "    if auc < 0.5:\n",
    "        auc = roc_auc_score(y_train['above_average'], -x_train[col])\n",
    "    result_df.append((col, auc))\n",
    "result_df = pd.DataFrame(result_df, columns=['column', 'roc_auc_score'])\n",
    "cond = result_df['column'].isin(['engine_hp', 'engine_cylinders', 'highway_mpg', 'city_mpg'])\n",
    "result_df[cond].sort_values('roc_auc_score', ascending=False).head(1)"
   ]
  },
  {
   "cell_type": "code",
   "execution_count": null,
   "id": "3ee72ede-a120-4818-b441-45b835218c7b",
   "metadata": {},
   "outputs": [],
   "source": []
  },
  {
   "cell_type": "markdown",
   "id": "8840a5f3-9710-437e-bd11-0228003eac4a",
   "metadata": {},
   "source": [
    "### Question 2: Training the model\n",
    "- Apply one-hot-encoding using DictVectorizer and train the logistic regression with these parameters: `LogisticRegression(solver='liblinear', C=1.0, max_iter=1000)`\n",
    "- What's the AUC of this model on the validation dataset? (round to 3 digits)\n",
    "  - 0.678\n",
    "  - 0.779\n",
    "  - 0.878\n",
    "  - 0.979"
   ]
  },
  {
   "cell_type": "code",
   "execution_count": 8,
   "id": "ee3a1b67-227b-49f8-bcc2-427b8867be70",
   "metadata": {},
   "outputs": [],
   "source": [
    "dv = DictVectorizer(sparse=False)\n",
    "x_train_df = dv.fit_transform(x_train.to_dict(orient='records'))\n",
    "x_val_df = dv.transform(x_val.to_dict(orient='records'))"
   ]
  },
  {
   "cell_type": "code",
   "execution_count": 10,
   "id": "5dbdf64b-1db5-45cb-8ef7-9a4f52dd63b5",
   "metadata": {},
   "outputs": [
    {
     "name": "stdout",
     "output_type": "stream",
     "text": [
      "AUC of model: 0.979\n"
     ]
    }
   ],
   "source": [
    "lr = LogisticRegression(solver='liblinear', C=1.0, max_iter=1000)\n",
    "lr.fit(x_train_df, np.ravel(y_train))\n",
    "yval_pred = lr.predict_proba(x_val_df)[:, 1]\n",
    "score = roc_auc_score(y_true=y_val, y_score=yval_pred)\n",
    "print('AUC of model: {:.3f}'.format(score))"
   ]
  },
  {
   "cell_type": "code",
   "execution_count": null,
   "id": "34da5962-2df9-4e8b-9f1f-f846acc59b8c",
   "metadata": {},
   "outputs": [],
   "source": []
  },
  {
   "cell_type": "markdown",
   "id": "9e35aee8-d172-4a62-b487-db1a415529d6",
   "metadata": {},
   "source": [
    "### Question 3: Precision and Recall\n",
    "- Evaluate the model on all thresholds from 0.0 to 1.0 with step 0.01\n",
    "- For each threshold, compute precision and recall\n",
    "- Plot them\n",
    "- At which threshold precision and recall curves intersect?\n",
    "  - 0.28\n",
    "  - 0.48\n",
    "  - 0.68\n",
    "  - 0.88"
   ]
  },
  {
   "cell_type": "code",
   "execution_count": 11,
   "id": "58e58b18-ee89-4b6d-a869-791fba4798a3",
   "metadata": {},
   "outputs": [
    {
     "name": "stderr",
     "output_type": "stream",
     "text": [
      "/home/byl/Documents/byl/studies/MLZoomCamp/.venv/lib/python3.9/site-packages/sklearn/metrics/_classification.py:1469: UndefinedMetricWarning: Precision is ill-defined and being set to 0.0 due to no predicted samples. Use `zero_division` parameter to control this behavior.\n",
      "  _warn_prf(average, modifier, msg_start, len(result))\n"
     ]
    }
   ],
   "source": [
    "threshold_ls = np.arange(0, 1.01, 0.01)\n",
    "result_df = []\n",
    "for val in threshold_ls:\n",
    "    lr = LogisticRegression(solver='liblinear', C=1.0, max_iter=1000)\n",
    "    lr.fit(x_train_df, np.ravel(y_train))\n",
    "    yval_pred = lr.predict_proba(x_val_df)[:, 1]\n",
    "    prec = precision_score(y_true=y_val, y_pred = yval_pred >= val)\n",
    "    recall = recall_score(y_true=y_val, y_pred = yval_pred >= val)\n",
    "    result_df.append((val, prec, recall))\n",
    "result_df = pd.DataFrame(result_df, columns=['threshold', 'precision', 'recall'])"
   ]
  },
  {
   "cell_type": "code",
   "execution_count": 12,
   "id": "2fd72f82-3431-4615-a949-09abf167ce1d",
   "metadata": {},
   "outputs": [
    {
     "data": {
      "text/plain": [
       "<Axes: xlabel='threshold'>"
      ]
     },
     "execution_count": 12,
     "metadata": {},
     "output_type": "execute_result"
    },
    {
     "data": {
      "image/png": "[encoded data removed]",
      "text/plain": [
       "<Figure size 640x480 with 1 Axes>"
      ]
     },
     "metadata": {},
     "output_type": "display_data"
    }
   ],
   "source": [
    "ax = result_df.plot(x='threshold', y='precision')\n",
    "result_df.plot(x='threshold', y='recall', ax=ax)"
   ]
  },
  {
   "cell_type": "code",
   "execution_count": 14,
   "id": "08f99190-c92a-431a-8378-ce1a61a99f7b",
   "metadata": {},
   "outputs": [
    {
     "data": {
      "text/html": [
       "<div>\n",
       "<style scoped>\n",
       "    .dataframe tbody tr th:only-of-type {\n",
       "        vertical-align: middle;\n",
       "    }\n",
       "\n",
       "    .dataframe tbody tr th {\n",
       "        vertical-align: top;\n",
       "    }\n",
       "\n",
       "    .dataframe thead th {\n",
       "        text-align: right;\n",
       "    }\n",
       "</style>\n",
       "<table border=\"1\" class=\"dataframe\">\n",
       "  <thead>\n",
       "    <tr style=\"text-align: right;\">\n",
       "      <th></th>\n",
       "      <th>threshold</th>\n",
       "      <th>precision</th>\n",
       "      <th>recall</th>\n",
       "    </tr>\n",
       "  </thead>\n",
       "  <tbody>\n",
       "    <tr>\n",
       "      <th>47</th>\n",
       "      <td>0.47</td>\n",
       "      <td>0.882263</td>\n",
       "      <td>0.882263</td>\n",
       "    </tr>\n",
       "    <tr>\n",
       "      <th>100</th>\n",
       "      <td>1.00</td>\n",
       "      <td>0.000000</td>\n",
       "      <td>0.000000</td>\n",
       "    </tr>\n",
       "  </tbody>\n",
       "</table>\n",
       "</div>"
      ],
      "text/plain": [
       "     threshold  precision    recall\n",
       "47        0.47   0.882263  0.882263\n",
       "100       1.00   0.000000  0.000000"
      ]
     },
     "execution_count": 14,
     "metadata": {},
     "output_type": "execute_result"
    }
   ],
   "source": [
    "cond = result_df['precision'] == result_df['recall']\n",
    "result_df[cond]"
   ]
  },
  {
   "cell_type": "code",
   "execution_count": null,
   "id": "058c1542-453e-4e74-ad75-0a7f29965791",
   "metadata": {},
   "outputs": [],
   "source": []
  },
  {
   "cell_type": "markdown",
   "id": "41d7b2c4-c2ec-49e1-b85b-a7c316a6a139",
   "metadata": {},
   "source": [
    "### Question 4: F1 score\n",
    "- This is the formula for computing F1: $F_1 = 2 * \\frac{P  R}{P + R}$ where P is precision and R is recall.\n",
    "- Let's compute F1 for all thresholds from 0.0 to 1.0 with increment 0.01\n",
    "- At which threshold F1 is maximal?\n",
    "  - 0.12\n",
    "  - 0.32\n",
    "  - 0.52\n",
    "  - 0.72"
   ]
  },
  {
   "cell_type": "code",
   "execution_count": 15,
   "id": "ce23f2c4-938b-4608-8547-fc002d1cbeec",
   "metadata": {},
   "outputs": [
    {
     "name": "stderr",
     "output_type": "stream",
     "text": [
      "/home/byl/Documents/byl/studies/MLZoomCamp/.venv/lib/python3.9/site-packages/sklearn/metrics/_classification.py:1469: UndefinedMetricWarning: Precision is ill-defined and being set to 0.0 due to no predicted samples. Use `zero_division` parameter to control this behavior.\n",
      "  _warn_prf(average, modifier, msg_start, len(result))\n",
      "/tmp/ipykernel_13480/2841451566.py:9: RuntimeWarning: invalid value encountered in scalar divide\n",
      "  f1_score = 2 * prec * recall / (prec + recall)\n"
     ]
    }
   ],
   "source": [
    "threshold_ls = np.arange(0, 1.01, 0.01)\n",
    "result_df = []\n",
    "for val in threshold_ls:\n",
    "    lr = LogisticRegression(solver='liblinear', C=1.0, max_iter=1000)\n",
    "    lr.fit(x_train_df, np.ravel(y_train))\n",
    "    yval_pred = lr.predict_proba(x_val_df)[:, 1]\n",
    "    prec = precision_score(y_true=y_val, y_pred = yval_pred >= val)\n",
    "    recall = recall_score(y_true=y_val, y_pred = yval_pred >= val)\n",
    "    f1_score = 2 * prec * recall / (prec + recall)\n",
    "    result_df.append((val, prec, recall, f1_score))\n",
    "result_df = pd.DataFrame(result_df, columns=['threshold', 'precision', 'recall', 'f1_score'])"
   ]
  },
  {
   "cell_type": "code",
   "execution_count": 16,
   "id": "a985dc41-997b-4534-92ea-78d027aa50a8",
   "metadata": {},
   "outputs": [
    {
     "data": {
      "text/html": [
       "<div>\n",
       "<style scoped>\n",
       "    .dataframe tbody tr th:only-of-type {\n",
       "        vertical-align: middle;\n",
       "    }\n",
       "\n",
       "    .dataframe tbody tr th {\n",
       "        vertical-align: top;\n",
       "    }\n",
       "\n",
       "    .dataframe thead th {\n",
       "        text-align: right;\n",
       "    }\n",
       "</style>\n",
       "<table border=\"1\" class=\"dataframe\">\n",
       "  <thead>\n",
       "    <tr style=\"text-align: right;\">\n",
       "      <th></th>\n",
       "      <th>threshold</th>\n",
       "      <th>precision</th>\n",
       "      <th>recall</th>\n",
       "      <th>f1_score</th>\n",
       "    </tr>\n",
       "  </thead>\n",
       "  <tbody>\n",
       "    <tr>\n",
       "      <th>51</th>\n",
       "      <td>0.51</td>\n",
       "      <td>0.901274</td>\n",
       "      <td>0.865443</td>\n",
       "      <td>0.882995</td>\n",
       "    </tr>\n",
       "  </tbody>\n",
       "</table>\n",
       "</div>"
      ],
      "text/plain": [
       "    threshold  precision    recall  f1_score\n",
       "51       0.51   0.901274  0.865443  0.882995"
      ]
     },
     "execution_count": 16,
     "metadata": {},
     "output_type": "execute_result"
    }
   ],
   "source": [
    "result_df.sort_values('f1_score', ascending=False).head(1)"
   ]
  },
  {
   "cell_type": "code",
   "execution_count": null,
   "id": "10420d7e-e847-48de-ba3a-377b6976b26a",
   "metadata": {},
   "outputs": [],
   "source": []
  },
  {
   "cell_type": "markdown",
   "id": "167ac89a-5909-48fb-9a02-163044a807ab",
   "metadata": {},
   "source": [
    "### Question 5: 5-Fold CV\n",
    "- Use the KFold class from Scikit-Learn to evaluate our model on 5 different folds: `KFold(n_splits=5, shuffle=True, random_state=1)`\n",
    "- Iterate over different folds of df_full_train\n",
    "- Split the data into train and validation\n",
    "- Train the model on train with these parameters: `LogisticRegression(solver='liblinear', C=1.0, max_iter=1000)`\n",
    "- Use AUC to evaluate the model on validation\n",
    "- How large is standard devidation of the scores across different folds?\n",
    "  - 0.003\n",
    "  - 0.030\n",
    "  - 0.090\n",
    "  - 0.140"
   ]
  },
  {
   "cell_type": "code",
   "execution_count": 17,
   "id": "ffcdb0b5-ce75-4986-8191-1baad351c9a1",
   "metadata": {},
   "outputs": [],
   "source": [
    "kfold = KFold(n_splits=5, shuffle=True, random_state=1)\n",
    "df_full_train, df_test = train_test_split(df, test_size=0.2, random_state=1)"
   ]
  },
  {
   "cell_type": "code",
   "execution_count": 18,
   "id": "219aae6d-7277-4a7a-bcda-b8b46e8e6e6f",
   "metadata": {},
   "outputs": [],
   "source": [
    "result_df = [] \n",
    "i = 0\n",
    "for train_idx, val_idx in kfold.split(df_full_train):\n",
    "    lr = LogisticRegression(solver='liblinear', C=1.0, max_iter=1000)\n",
    "    dv = DictVectorizer(sparse=False)\n",
    "    x_train_df = df_full_train.iloc[train_idx, :].drop(\n",
    "        columns=['msrp', 'above_average'])\n",
    "    y_train_df = df_full_train.iloc[train_idx, :]['above_average'].copy()\n",
    "    x_val_df = df_full_train.iloc[val_idx, :].drop(\n",
    "        columns=['msrp', 'above_average'])\n",
    "    y_val_df = df_full_train.iloc[val_idx, :]['above_average'].copy()\n",
    "    x_train_df = dv.fit_transform(x_train_df.to_dict(orient='records'))\n",
    "    x_val_df = dv.transform(x_val_df.to_dict(orient='records'))\n",
    "    lr.fit(x_train_df, y_train_df)\n",
    "    ypred = lr.predict_proba(x_val_df)[:, 1]\n",
    "    score = roc_auc_score(y_true=y_val_df, y_score=ypred)\n",
    "    i = i + 1\n",
    "    result_df.append((i, score))\n",
    "result_df = pd.DataFrame(result_df, columns=['fold', 'roc_auc_score'])"
   ]
  },
  {
   "cell_type": "code",
   "execution_count": 22,
   "id": "4178a997-36fc-48d6-a14d-3ad53c772d4b",
   "metadata": {},
   "outputs": [
    {
     "name": "stdout",
     "output_type": "stream",
     "text": [
      "Standard deviation of the scores across different folds: 0.003\n"
     ]
    }
   ],
   "source": [
    "print('Standard deviation of the scores across different folds: {:.3f}'.format(\n",
    "    np.std(result_df['roc_auc_score'])))"
   ]
  },
  {
   "cell_type": "code",
   "execution_count": null,
   "id": "54002457-f390-47f6-b53e-780d8038a2dd",
   "metadata": {},
   "outputs": [],
   "source": []
  },
  {
   "cell_type": "markdown",
   "id": "5ae90092-a032-47c5-8ffe-c96c96310383",
   "metadata": {},
   "source": [
    "### Question 6: Hyperparemeter Tuning\n",
    "- Use 5-Fold cross-validation to find the best parameter C\n",
    "- Iterate over the following C values: [0.01, 0.1, 0.5, 10]\n",
    "- Initialize KFold with the same parameters as previously\n",
    "- Use these parametes for the model: LogisticRegression(solver='liblinear', C=C, max_iter=1000)\n",
    "- Compute the mean score as well as the std (round the mean and std to 3 decimal digits)\n",
    "- Which C leads to the best mean score? If you have ties, select the score with the lowest std. If you still have ties, select the smallest C.\n",
    "  - 0.01\n",
    "  - 0.1\n",
    "  - 0.5\n",
    "  - 10"
   ]
  },
  {
   "cell_type": "code",
   "execution_count": 23,
   "id": "c27b6f13-dbb4-427a-833b-5abb08d17907",
   "metadata": {},
   "outputs": [],
   "source": [
    "kfold = KFold(n_splits=5, shuffle=True, random_state=1)\n",
    "df_full_train, df_test = train_test_split(df, test_size=0.2, random_state=1)"
   ]
  },
  {
   "cell_type": "code",
   "execution_count": 24,
   "id": "06b3e6cf-309f-4e51-9ca3-a4c43a277b06",
   "metadata": {},
   "outputs": [],
   "source": [
    "result_df = [] \n",
    "c_list = [0.01, 0.1, 0.5, 10]\n",
    "for c in c_list:\n",
    "    score_list = []\n",
    "    for train_idx, val_idx in kfold.split(df_full_train):\n",
    "        lr = LogisticRegression(solver='liblinear', C=c, max_iter=1000)\n",
    "        dv = DictVectorizer(sparse=False)\n",
    "        x_train_df = df_full_train.iloc[train_idx, :].drop(\n",
    "            columns=['msrp', 'above_average'])\n",
    "        y_train_df = df_full_train.iloc[train_idx, :]['above_average'].copy()\n",
    "        x_val_df = df_full_train.iloc[val_idx, :].drop(\n",
    "            columns=['msrp', 'above_average'])\n",
    "        y_val_df = df_full_train.iloc[val_idx, :]['above_average'].copy()\n",
    "        x_train_df = dv.fit_transform(x_train_df.to_dict(orient='records'))\n",
    "        x_val_df = dv.transform(x_val_df.to_dict(orient='records'))\n",
    "        lr.fit(x_train_df, y_train_df)\n",
    "        ypred = lr.predict_proba(x_val_df)[:, 1]\n",
    "        score = roc_auc_score(y_true=y_val_df, y_score=ypred)\n",
    "        score_list.append(score)\n",
    "    result_df.append((c, np.round(np.mean(score_list), 3), np.round(np.std(score_list), 3)))\n",
    "result_df = pd.DataFrame(result_df, columns=['C_value', 'mean_roc_auc', 'std_roc_auc'])"
   ]
  },
  {
   "cell_type": "code",
   "execution_count": 25,
   "id": "57b64a82-08e7-4a10-b91f-77d90536993f",
   "metadata": {},
   "outputs": [
    {
     "data": {
      "text/html": [
       "<div>\n",
       "<style scoped>\n",
       "    .dataframe tbody tr th:only-of-type {\n",
       "        vertical-align: middle;\n",
       "    }\n",
       "\n",
       "    .dataframe tbody tr th {\n",
       "        vertical-align: top;\n",
       "    }\n",
       "\n",
       "    .dataframe thead th {\n",
       "        text-align: right;\n",
       "    }\n",
       "</style>\n",
       "<table border=\"1\" class=\"dataframe\">\n",
       "  <thead>\n",
       "    <tr style=\"text-align: right;\">\n",
       "      <th></th>\n",
       "      <th>C_value</th>\n",
       "      <th>mean_roc_auc</th>\n",
       "      <th>std_roc_auc</th>\n",
       "    </tr>\n",
       "  </thead>\n",
       "  <tbody>\n",
       "    <tr>\n",
       "      <th>3</th>\n",
       "      <td>10.0</td>\n",
       "      <td>0.981</td>\n",
       "      <td>0.003</td>\n",
       "    </tr>\n",
       "  </tbody>\n",
       "</table>\n",
       "</div>"
      ],
      "text/plain": [
       "   C_value  mean_roc_auc  std_roc_auc\n",
       "3     10.0         0.981        0.003"
      ]
     },
     "execution_count": 25,
     "metadata": {},
     "output_type": "execute_result"
    }
   ],
   "source": [
    "result_df.sort_values(['mean_roc_auc', 'std_roc_auc', 'C_value'], ascending=[False, True, True]).head(1)"
   ]
  },
  {
   "cell_type": "code",
   "execution_count": null,
   "id": "59a8592d-425d-4b92-9ccd-1daf0d4a446c",
   "metadata": {},
   "outputs": [],
   "source": []
  }
 ],
 "metadata": {
  "kernelspec": {
   "display_name": "Python 3 (ipykernel)",
   "language": "python",
   "name": "python3"
  },
  "language_info": {
   "codemirror_mode": {
    "name": "ipython",
    "version": 3
   },
   "file_extension": ".py",
   "mimetype": "text/x-python",
   "name": "python",
   "nbconvert_exporter": "python",
   "pygments_lexer": "ipython3",
   "version": "3.9.15"
  }
 },
 "nbformat": 4,
 "nbformat_minor": 5
}
