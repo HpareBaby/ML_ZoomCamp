{
 "cells": [
  {
   "cell_type": "code",
   "execution_count": 1,
   "id": "6adac4e9-21f0-4848-a28a-0d8b5771007c",
   "metadata": {},
   "outputs": [],
   "source": [
    "import numpy as np\n",
    "import pandas as pd"
   ]
  },
  {
   "cell_type": "code",
   "execution_count": 2,
   "id": "313ee0cc-0f65-4326-93e9-20819e86e6fd",
   "metadata": {},
   "outputs": [
    {
     "data": {
      "text/plain": [
       "'2.1.0'"
      ]
     },
     "execution_count": 2,
     "metadata": {},
     "output_type": "execute_result"
    }
   ],
   "source": [
    "pd.__version__"
   ]
  },
  {
   "cell_type": "code",
   "execution_count": 3,
   "id": "dcf398a2-ec2d-4510-b9d2-32111e5a5c84",
   "metadata": {},
   "outputs": [],
   "source": [
    "df = pd.read_csv('housing.csv')"
   ]
  },
  {
   "cell_type": "code",
   "execution_count": 4,
   "id": "47fdb54c-d2e9-495f-98fe-3fec0e92da7c",
   "metadata": {},
   "outputs": [
    {
     "name": "stdout",
     "output_type": "stream",
     "text": [
      "Number of columns in dataset: 10\n"
     ]
    }
   ],
   "source": [
    "print(\"Number of columns in dataset: {}\".format(df.shape[1]))"
   ]
  },
  {
   "cell_type": "code",
   "execution_count": 5,
   "id": "b8e6a010-3b0e-4049-b682-0db1c223fa90",
   "metadata": {},
   "outputs": [
    {
     "data": {
      "text/plain": [
       "['total_bedrooms']"
      ]
     },
     "execution_count": 5,
     "metadata": {},
     "output_type": "execute_result"
    }
   ],
   "source": [
    "null_cols = [c for c in df.columns if df[c].isna().sum() > 0]\n",
    "null_cols"
   ]
  },
  {
   "cell_type": "code",
   "execution_count": 6,
   "id": "d6dd645b-2c61-44e6-ad1b-c0050951feca",
   "metadata": {},
   "outputs": [
    {
     "name": "stdout",
     "output_type": "stream",
     "text": [
      "Ocean proximity column has 5 unique values.\n"
     ]
    }
   ],
   "source": [
    "print(\"Ocean proximity column has {} unique values.\".format(len(df['ocean_proximity'].unique())))"
   ]
  },
  {
   "cell_type": "code",
   "execution_count": 7,
   "id": "1b13cf98-0717-426d-8d47-763cb3163d5b",
   "metadata": {},
   "outputs": [
    {
     "name": "stdout",
     "output_type": "stream",
     "text": [
      "Average value of median_house_value for houses located near the bay: 259,212\n"
     ]
    }
   ],
   "source": [
    "cond = df['ocean_proximity'] == 'NEAR BAY'\n",
    "print(\"Average value of median_house_value for houses located near the bay: {:,.0f}\".format(np.mean(df[cond]['median_house_value'])))"
   ]
  },
  {
   "cell_type": "code",
   "execution_count": 8,
   "id": "a448bef5-c380-45a0-923e-ba0ecbb77597",
   "metadata": {},
   "outputs": [
    {
     "name": "stdout",
     "output_type": "stream",
     "text": [
      "Original average of total_bedrooms: 537.871\n",
      "New average of total_bedrooms after filling nulls with average value: 537.871\n"
     ]
    }
   ],
   "source": [
    "avg_value = np.round(np.mean(df['total_bedrooms']), 3)\n",
    "df['total_bedrooms'].fillna(avg_value, inplace=True)\n",
    "new_avg_value = np.round(np.mean(df['total_bedrooms']), 3)\n",
    "print('Original average of total_bedrooms: {}'.format(avg_value))\n",
    "print('New average of total_bedrooms after filling nulls with average value: {}'.format(new_avg_value))"
   ]
  },
  {
   "cell_type": "code",
   "execution_count": 9,
   "id": "a69682c1-996b-4104-b09c-7895570edb96",
   "metadata": {},
   "outputs": [],
   "source": [
    "cond = df['ocean_proximity'] == 'ISLAND'\n",
    "req_cols = ['housing_median_age', 'total_rooms', 'total_bedrooms']\n",
    "X = df[cond][req_cols].values\n",
    "XTX = np.matmul(X.T, X)\n",
    "inv_XTX = np.linalg.inv(XTX)\n",
    "y = np.array([950, 1300, 800, 1000, 1300])\n",
    "w = np.matmul(np.matmul(inv_XTX, X.T), y)"
   ]
  },
  {
   "cell_type": "code",
   "execution_count": 10,
   "id": "56f2f239-f201-4cf1-9aa7-9d1261887346",
   "metadata": {},
   "outputs": [
    {
     "data": {
      "text/plain": [
       "array([23.12330961, -1.48124183,  5.69922946])"
      ]
     },
     "execution_count": 10,
     "metadata": {},
     "output_type": "execute_result"
    }
   ],
   "source": [
    "w"
   ]
  },
  {
   "cell_type": "code",
   "execution_count": null,
   "id": "09a75ccb-0e93-4b4d-89bc-c6f78031a6f2",
   "metadata": {},
   "outputs": [],
   "source": []
  }
 ],
 "metadata": {
  "kernelspec": {
   "display_name": "Python 3 (ipykernel)",
   "language": "python",
   "name": "python3"
  },
  "language_info": {
   "codemirror_mode": {
    "name": "ipython",
    "version": 3
   },
   "file_extension": ".py",
   "mimetype": "text/x-python",
   "name": "python",
   "nbconvert_exporter": "python",
   "pygments_lexer": "ipython3",
   "version": "3.9.15"
  }
 },
 "nbformat": 4,
 "nbformat_minor": 5
}
